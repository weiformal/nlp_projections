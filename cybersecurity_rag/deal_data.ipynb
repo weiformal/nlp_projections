{
 "cells": [
  {
   "cell_type": "code",
   "execution_count": 1,
   "id": "159537ff-1602-432d-898f-fbca961826e9",
   "metadata": {},
   "outputs": [],
   "source": [
    "import jsonlines\n",
    "from langchain_core.documents import Document\n",
    "\n",
    "def payload_deal(file_path):\n",
    "    with open(\"payload_des.txt\", \"r\", encoding=\"utf-8\") as f:\n",
    "        data = f.readlines()\n",
    "    new_dict = {}\n",
    "    with open(file_path, \"r\", encoding=\"utf-8\") as jsonfile:\n",
    "        for item in jsonlines.Reader(jsonfile):\n",
    "            for key, value in item.items():\n",
    "                new_dict[key] = value\n",
    "    \n",
    "    docs_list = []\n",
    "    for d in data:\n",
    "        if type(new_dict[d.split(\":\")[0]]) == dict:\n",
    "            page_content = d\n",
    "            meta_data = {\"techniques\":\",\".join([val.replace('\"',\"'\") for key, value in new_dict[d.split(\":\")[0]].items() for val in value[0:3] if len(val)<20]),'source':file_path,'start_index':\"\"}\n",
    "        \n",
    "            docs_list.append(Document(page_content=page_content, metadata=meta_data))\n",
    "    return docs_list\n",
    "        \n",
    "    \n",
    " "
   ]
  },
  {
   "cell_type": "code",
   "execution_count": null,
   "id": "9841aea3-f82a-4c53-a20d-7642a9d6e609",
   "metadata": {},
   "outputs": [],
   "source": []
  }
 ],
 "metadata": {
  "kernelspec": {
   "display_name": "Pytorch",
   "language": "python",
   "name": "pytorch"
  },
  "language_info": {
   "codemirror_mode": {
    "name": "ipython",
    "version": 3
   },
   "file_extension": ".py",
   "mimetype": "text/x-python",
   "name": "python",
   "nbconvert_exporter": "python",
   "pygments_lexer": "ipython3",
   "version": "3.10.14"
  }
 },
 "nbformat": 4,
 "nbformat_minor": 5
}
