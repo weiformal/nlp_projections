{
 "cells": [
  {
   "cell_type": "code",
   "execution_count": null,
   "id": "6c1a6541-7c88-403a-a697-3ca3d60d5718",
   "metadata": {},
   "outputs": [],
   "source": [
    "from langchain.llms.base import LLM\n",
    "from typing import Optional, List, Mapping, Any\n",
    "import requests\n",
    "\n",
    "class local_model(LLM):\n",
    "    history = []\n",
    "    def __init__(self):\n",
    "        super().__init__()\n",
    "        \n",
    "    @property\n",
    "    def _llm_type(self) -> str:\n",
    "        return \"local_model\"\n",
    "\n",
    "    def _call(self, prompt: str, stop: Optional[List[str]] = None) -> str:\n",
    "        data={'text':prompt}\n",
    "        url = \"http://0.0.0.0:6667/chat/\"\n",
    "        response = requests.post(url, json=data)\n",
    "        if response.status_code!=200:\n",
    "            return \"error\"\n",
    "        resp = response.json()\n",
    "        if stop is not None:\n",
    "            response = enforce_stop_tokens(response, stop)\n",
    "        self.history = self.history+[[None, resp['result']]]\n",
    "        return resp['result']"
   ]
  },
  {
   "cell_type": "code",
   "execution_count": null,
   "id": "b6c0a254-3b88-4186-bd3a-ec67ef72f0a0",
   "metadata": {},
   "outputs": [],
   "source": [
    "from langchain_community.chat_models import ChatZhipuAI\n",
    "import os\n",
    "os.environ[\"ZHIPUAI_API_KEY\"] = \"\"\n",
    "model = ChatZhipuAI(model=\"glm-4\",streamer = True)"
   ]
  },
  {
   "cell_type": "code",
   "execution_count": null,
   "id": "8dc32d3b-4da7-42ef-84a3-5e8f5a2dcfcd",
   "metadata": {},
   "outputs": [],
   "source": [
    "from langchain_community.llms.ollama import Ollama\n",
    "from langchain_community.chat_models.ollama import ChatOllama\n",
    "\n",
    "llm = Ollama(model = \"glm4\")"
   ]
  }
 ],
 "metadata": {
  "kernelspec": {
   "display_name": "Pytorch",
   "language": "python",
   "name": "pytorch"
  },
  "language_info": {
   "codemirror_mode": {
    "name": "ipython",
    "version": 3
   },
   "file_extension": ".py",
   "mimetype": "text/x-python",
   "name": "python",
   "nbconvert_exporter": "python",
   "pygments_lexer": "ipython3",
   "version": "3.10.14"
  }
 },
 "nbformat": 4,
 "nbformat_minor": 5
}
