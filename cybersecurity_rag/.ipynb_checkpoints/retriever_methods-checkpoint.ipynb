{
 "cells": [
  {
   "cell_type": "code",
   "execution_count": null,
   "id": "e51fd7b9-09a2-4c81-a6fd-3336f7e16cc7",
   "metadata": {},
   "outputs": [],
   "source": [
    "\"\"\"定义句子窗口检索\"\"\"\n",
    "class SentenceWindow:\n",
    "    def metadata_format(self, ordered_text, **kwargs):\n",
    "        count = kwargs.get(\"split_count\", 1)\n",
    "        for i, document in enumerate(ordered_text):\n",
    "            if i - count >= 0:\n",
    "                document.metadata['previous_page'] = ordered_text[i-count].page_content\n",
    "            else:\n",
    "                document.metadata['previous_page'] = ''\n",
    "             \n",
    "            if i + count < len(ordered_text):\n",
    "                document.metadata['next_page'] = ordered_text[i+count].page_content\n",
    "            else:\n",
    "                document.metadata['next_page'] = ''\n",
    "\n",
    "            if not document.metadata.get('techniques'):\n",
    "                document.metadata['techniques'] = ''\n",
    "        return ordered_text\n",
    "    def search_and_format(self, retriever, query, **kwargs):\n",
    "        top_documents = retriever.get_relevant_documents(query)\n",
    "        formatted_docs = []\n",
    "        for doc in top_documents:\n",
    "            # 获取前后文\n",
    "            previous_page = doc.metadata.get(\"previous_page\", \"\")\n",
    "            next_page = doc.metadata.get(\"next_page\", \"\")\n",
    "            techniques = doc.metadata.get(\"techniques\", \"\")\n",
    "            # 拼接前后文与当前文档\n",
    "            doc.page_content = previous_page + doc.page_content + next_page + techniques\n",
    "            formatted_docs.append(doc)\n",
    "        return formatted_docs"
   ]
  },
  {
   "cell_type": "code",
   "execution_count": null,
   "id": "afcdb719-b301-4777-9405-3039781a99b8",
   "metadata": {},
   "outputs": [],
   "source": [
    "\"\"\"多路召回检索\"\"\"\n",
    "class MultiRoad:\n",
    "    def search_and_format(self, databases, query, **kwargs):\n",
    "        top_documents = retriever.get_relevant_documents(query)\n",
    "        result_data = []\n",
    "        pairs = [[query, item.page_content] for item in top_documents]\n",
    "        with torch.no_grad():\n",
    "            rerank_tokenizer = AutoTokenizer.from_pretrained('bce-reranker-base_v1')\n",
    "            inputs = rerank_tokenizer(pairs, padding=True, truncation=True, return_tensors='pt', max_length=512)\n",
    "            rerank_model = AutoModelForSequenceClassification.from_pretrained('bce-reranker-base_v1')\n",
    "            scores = rerank_model(**inputs, return_dict=True).logits.view(-1, ).float()\n",
    "            for i, score in enumerate(scores):\n",
    "                data = {\n",
    "                \"text\": top_documents[i].page_content,\n",
    "                \"score\": float(score)\n",
    "                }\n",
    "                result_data.append(data)\n",
    "        returnresult_data"
   ]
  },
  {
   "cell_type": "code",
   "execution_count": null,
   "id": "6cab3a83-a4a4-4566-bc0f-416a5823655e",
   "metadata": {},
   "outputs": [],
   "source": []
  }
 ],
 "metadata": {
  "kernelspec": {
   "display_name": "Pytorch",
   "language": "python",
   "name": "pytorch"
  },
  "language_info": {
   "codemirror_mode": {
    "name": "ipython",
    "version": 3
   },
   "file_extension": ".py",
   "mimetype": "text/x-python",
   "name": "python",
   "nbconvert_exporter": "python",
   "pygments_lexer": "ipython3",
   "version": "3.10.14"
  }
 },
 "nbformat": 4,
 "nbformat_minor": 5
}
