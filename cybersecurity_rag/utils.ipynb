{
 "cells": [
  {
   "cell_type": "code",
   "execution_count": 1,
   "id": "68d6ced4-6313-45e4-b90b-89aa5c6c4a94",
   "metadata": {},
   "outputs": [
    {
     "name": "stderr",
     "output_type": "stream",
     "text": [
      "/home/weibs/miniconda3/envs/Pytorch/lib/python3.10/site-packages/sentence_transformers/cross_encoder/CrossEncoder.py:11: TqdmExperimentalWarning: Using `tqdm.autonotebook.tqdm` in notebook mode. Use `tqdm.tqdm` instead to force console mode (e.g. in jupyter console)\n",
      "  from tqdm.autonotebook import tqdm, trange\n"
     ]
    }
   ],
   "source": [
    "'''RAG的utils'''\n",
    "import jsonlines\n",
    "from langchain.indexes import SQLRecordManager, index\n",
    "from langchain.text_splitter import RecursiveJsonSplitter,CharacterTextSplitter\n",
    "import sentence_transformers\n",
    "from typing import List\n",
    "from langchain_core.documents import Document\n",
    "from langchain.vectorstores.chroma import Chroma\n",
    "from langchain_community.embeddings import HuggingFaceEmbeddings\n",
    "from langchain.document_loaders import PDFMinerLoader, TextLoader\n",
    "import os\n",
    "import re\n",
    "import json\n",
    "\n",
    "# 获取文件地址\n",
    "def acq_filenames(folder_path):\n",
    "    filename_list = []\n",
    "    for filename in os.listdir(folder_path):\n",
    "        filename_list.append(folder_path + \"/\" + filename)\n",
    "    return filename_list\n",
    "    \n",
    "# 读取jsonl文件\n",
    "def read_jsonl(jsonl_file):\n",
    "    new_dict = {}\n",
    "    with open(jsonl_file,\"r\",encoding=\"utf-8\") as jsonfile:\n",
    "        for item in jsonlines.Reader(jsonfile):\n",
    "            for key, value in item.items():\n",
    "                new_dict[key] = value\n",
    "    return new_dict\n",
    "    \n",
    "# 将jsonl转换为document格式\n",
    "def jsonl2doc(file_path):\n",
    "    json_data = read_jsonl(file_path)\n",
    "\n",
    "    splitter = RecursiveJsonSplitter(max_chunk_size=2000)\n",
    "    \n",
    "    docs = splitter.create_documents(texts=[json_data])\n",
    "    return docs\n",
    "    \n",
    "# 将json转换为document格式\n",
    "def json2doc(file_path):\n",
    "    json_data = json.loads(file_path)\n",
    "    splitter = RecursiveJsonSplitter(max_chunk_size=2000)\n",
    "    docs = splitter.create_documents(texts=[json_data])\n",
    "    return docs\n",
    "    \n",
    " # 将txt转换为document格式  \n",
    "def txt2doc(file_path):\n",
    "    docs = TextLoader(file).load()\n",
    "    docs = CharacterTextSplitter(separator=\"\\n\", chunk_size=1024, chunk_overlap=64, add_start_index=True).split_documents(documents=docs)\n",
    "    return docs\n",
    "    \n",
    "# 将pdf转换为document格式\n",
    "def pdf2doc(file_path):\n",
    "    docs = PDFMinerLoader(file_path).load()\n",
    "    docs = CharacterTextSplitter(separator=\"\\n\", chunk_size=1024, chunk_overlap=64, add_start_index=True).split_documents(documents=docs)\n",
    "    return docs\n",
    "\n",
    "# 将文本永久储存在向量库\n",
    "def permanent_stored(chunks):\n",
    "    embedding_model = \"bce-embedding-base_v1\"\n",
    "    embeddings = HuggingFaceEmbeddings(model_name=embedding_model, model_kwargs={'device': \"cuda:1\"})\n",
    "    embeddings.client = sentence_transformers.SentenceTransformer(embeddings.model_name, device=\"cuda:1\")\n",
    "\n",
    "    vectorstore = Chroma.from_documents(\n",
    "        documents=chunks, embedding=embeddings,\n",
    "        persist_directory='chroma_db_demo')  # 存储db地址)\n",
    "\n",
    "    return vectorstore"
   ]
  },
  {
   "cell_type": "code",
   "execution_count": null,
   "id": "f57f0f32-8173-4e81-b43c-e116a3a3b8cc",
   "metadata": {},
   "outputs": [],
   "source": []
  }
 ],
 "metadata": {
  "kernelspec": {
   "display_name": "Pytorch",
   "language": "python",
   "name": "pytorch"
  },
  "language_info": {
   "codemirror_mode": {
    "name": "ipython",
    "version": 3
   },
   "file_extension": ".py",
   "mimetype": "text/x-python",
   "name": "python",
   "nbconvert_exporter": "python",
   "pygments_lexer": "ipython3",
   "version": "3.10.14"
  }
 },
 "nbformat": 4,
 "nbformat_minor": 5
}
