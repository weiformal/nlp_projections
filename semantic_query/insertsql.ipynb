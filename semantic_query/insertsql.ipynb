{
 "cells": [
  {
   "cell_type": "code",
   "execution_count": null,
   "id": "8173e80b-9b5b-4c65-b882-9f44f20e5ee1",
   "metadata": {
    "editable": true,
    "slideshow": {
     "slide_type": ""
    },
    "tags": []
   },
   "outputs": [],
   "source": [
    "import math\n",
    "from datetime import timedelta, datetime\n",
    "import random\n",
    "import pymysql\n",
    "\n",
    "conn = pymysql.connect(host='localhost',\n",
    "                           user='root',\n",
    "                           password='wbs123456',\n",
    "                           database='agent1',\n",
    "                           port=3306,\n",
    "                           charset='utf8mb4')\n",
    "cursor = conn.cursor()"
   ]
  },
  {
   "cell_type": "code",
   "execution_count": null,
   "id": "19780fff-c2d1-450a-a3bc-315803d98328",
   "metadata": {
    "editable": true,
    "slideshow": {
     "slide_type": ""
    },
    "tags": []
   },
   "outputs": [],
   "source": [
    "\n",
    "date = \"{} 00:00:00\".format((datetime.now() - timedelta(days=6)).strftime('%Y-%m-%d'))\n",
    "start_date = datetime.strptime(date, \"%Y-%m-%d %H:%M:%S\")\n",
    "s_d = datetime.strptime(\"{} 09:00:00\".format((datetime.now() - timedelta(days=6)).strftime('%Y-%m-%d')), \"%Y-%m-%d %H:%M:%S\")\n",
    "\n",
    "\n",
    "id = 1\n",
    "id_f = 1\n",
    "id_m = 1\n",
    "id_d = 1\n",
    "sql_list = []\n",
    "for day in range(7):\n",
    "    dy_c = random.randint(100, 200)\n",
    "    current_date = start_date + day * timedelta(days=1)\n",
    "    cur_nine = s_d + day * timedelta(days=1)\n",
    "    sql_list += [\n",
    "            f\"INSERT INTO `agent`.`燃料`(`id`, `燃料名称`, `物资类型`, `库存量`, `消耗量`, `补给量`, `阈值`, `时间`) VALUES('m{id_m}', '天然气', '燃料', {dy_c}, 20, 0, 110, '{cur_nine}');\",\n",
    "            f\"INSERT INTO `agent`.`燃料`(`id`, `燃料名称`, `物资类型`, `库存量`, `消耗量`, `补给量`, `阈值`, `时间`) VALUES('m{id_m+1}', '柴油', '燃料', {dy_c}, 30, 0, 110, '{cur_nine}');\",\n",
    "            f\"INSERT INTO `agent`.`食物`(`id`, `食物名称`, `物资类型`, `库存量`, `消耗量`, `补给量`, `阈值`, `时间`) VALUES ('f{id_f}', '鸡肉', '食物', {dy_c}, 20, 0, 110, '{cur_nine}');\",\n",
    "            f\"INSERT INTO `agent`.`食物`(`id`, `食物名称`, `物资类型`, `库存量`, `消耗量`, `补给量`, `阈值`, `时间`) VALUES ('f{id_f+1}', '猪肉', '食物', {dy_c}, 20, 0, 110, '{cur_nine}');\",\n",
    "            f\"INSERT INTO `agent`.`食物`(`id`, `食物名称`, `物资类型`, `库存量`, `消耗量`, `补给量`, `阈值`, `时间`) VALUES ('f{id_f+2}', '白菜', '食物', {dy_c}, 30, 0, 110, '{cur_nine}');\",\n",
    "            f\"INSERT INTO `agent`.`食物`(`id`, `食物名称`, `物资类型`, `库存量`, `消耗量`, `补给量`, `阈值`, `时间`) VALUES ('f{id_f+3}', '青菜', '食物', {dy_c}, 250, 0, 110, '{cur_nine}');\",\n",
    "            f\"INSERT INTO `agent`.`医疗`(`id`, `医疗名称`, `物资类型`, `库存量`, `消耗量`, `补给量`, `阈值`, `时间`) VALUES ('m{id_m}', '医用酒精', '医疗用品', {dy_c}, 20, 0, 110, '{cur_nine}');\",\n",
    "            f\"INSERT INTO `agent`.`医疗`(`id`, `医疗名称`, `物资类型`, `库存量`, `消耗量`, `补给量`, `阈值`, `时间`) VALUES ('m{id_m+1}', '绷带', '医疗用品', {dy_c}, 30, 0, 110, '{cur_nine}');\"\n",
    "\n",
    "    ]\n",
    "    id_f +=4\n",
    "    id_m +=2\n",
    "\n",
    "\n",
    "    for hour in range(24):\n",
    "        formatted_date = (current_date + timedelta(hours=hour)).strftime(\"%Y-%m-%d %H:%M:%S\")\n",
    "        dy_c_tem = random.randint(10, 35)\n",
    "        shidu = round(random.uniform(50, 55), 1)\n",
    "        sqls = [\n",
    "            f\"INSERT INTO `agent`.`舱室`(`id`, `舱室名称`, `温度`, `湿度`, `温度阈值`, `湿度阈值`, `空调模式`, `风速`, `时间`) VALUES ('C{id}', '生活区', {dy_c_tem}, {shidu}, 30, 54.5, '50', 1, '{formatted_date}');\",\n",
    "            f\"INSERT INTO `agent`.`舱室`(`id`, `舱室名称`, `温度`, `湿度`, `温度阈值`, `湿度阈值`, `空调模式`, `风速`, `时间`) VALUES ('C{id + 1}', '主机舱', {dy_c_tem}, {shidu}, 30, 54.5, '制热', 5, '{formatted_date}');\",\n",
    "            f\"INSERT INTO `agent`.`舱室`(`id`, `舱室名称`, `温度`, `湿度`, `温度阈值`, `湿度阈值`, `空调模式`, `风速`, `时间`) VALUES ('C{id + 2}', '控制室', {dy_c_tem}, {shidu}, 30, 54.5, '制热', 3, '{formatted_date}');\",\n",
    "            f\"INSERT INTO `agent`.`舱室`(`id`, `舱室名称`, `温度`, `湿度`, `温度阈值`, `湿度阈值`, `空调模式`, `风速`, `时间`) VALUES ('C{id + 3}', '指挥室', {dy_c_tem}, {shidu}, 30, 54.5, '制冷', 5, '{formatted_date}');\",\n",
    "            f\"INSERT INTO `agent`.`舱室`(`id`, `舱室名称`, `温度`, `湿度`, `温度阈值`, `湿度阈值`, `空调模式`, `风速`, `时间`) VALUES ('C{id + 4}', '舰桥', {dy_c_tem}, {shidu}, 30, 54.5, '制热', 3, '{formatted_date}');\",\n",
    "            f\"INSERT INTO `agent`.`风管`(`id`, `设备名称`, `设备型号`, `部署位置`, `尺寸`, `材料`, `风量`, `风速`, `风压`, `阻力`, `湿度`, `静压损失`, `动压损失`, `噪音级别`, `漏风率`, `绝缘效能`, `维护周期`, `维护要求`, `时间`) VALUES ('D{id_d}', '风管1', '供冷设备', '主机舱', '0.5m x 0.5m', '不锈钢', 220.00, 2.30, 1030.00, 4.30, {shidu}, 330.00, 42.00, 45.90, 3.10, 61.00, '6', '风道清理', '{formatted_date}');\",\n",
    "            f\"INSERT INTO `agent`.`风管`(`id`, `设备名称`, `设备型号`, `部署位置`, `尺寸`, `材料`, `风量`, `风速`, `风压`, `阻力`, `湿度`, `静压损失`, `动压损失`, `噪音级别`, `漏风率`, `绝缘效能`, `维护周期`, `维护要求`, `时间`) VALUES ('D{id_d+1}', '风管2', '排烟设备', '主机舱', '0.4m x 0.4m', '铝合金', 210.00, 2.60, 1020.00, 3.10, {shidu}, 250.00, 40.00, 48.20, 4.40, 91.00, '3', '更换滤网', '{formatted_date}');\",\n",
    "            f\"INSERT INTO `agent`.`风机盘管`(`id`, `设备名称`, `部署位置`, `设备型号`, `制冷能力`, `制热能力`, `空气流量`, `温度阈值`, `温度`, `风速控制`, `制冷剂类型`, `风机类型`, `控制方式`, `电压`, `频率`, `噪音级别`, `节能性能`, `故障诊断和报警系统`, `安全特性`, `维护周期`, `维护要求`, `时间`) VALUES ('D{id_d}', '风机盘管1', '主机舱', 'AC-1001', 170, 240, 2380, '32', {dy_c_tem}, '3档', 'R-410A', '离心风机', '自动', '220', '50', 69.4, 4.60, '有', '过载保护，高温保护', '6', '更换滤网', '{formatted_date}');\",\n",
    "            f\"INSERT INTO `agent`.`风机盘管`(`id`, `设备名称`, `部署位置`, `设备型号`, `制冷能力`, `制热能力`, `空气流量`, `温度阈值`, `温度`, `风速控制`, `制冷剂类型`, `风机类型`, `控制方式`, `电压`, `频率`, `噪音级别`, `节能性能`, `故障诊断和报警系统`, `安全特性`, `维护周期`, `维护要求`, `时间`) VALUES ('D{id_d+1}', '风机盘管2', '主机舱', 'AC-2002', 180, 210, 1470, '32', {dy_c_tem}, '4档', 'R-134a', '螺旋风机', '远程控制', '220', '60', 61.5, 3.90, '有', '过载保护，漏电保护', '3', '风道清理', '{formatted_date}');\"\n",
    "            ]\n",
    "\n",
    "        id+=5\n",
    "        id_d+=2\n",
    "        sql_list += sqls\n",
    "\n"
   ]
  },
  {
   "cell_type": "code",
   "execution_count": null,
   "id": "49a8b4ae-2398-4552-ba54-797f58237f62",
   "metadata": {},
   "outputs": [],
   "source": [
    "for table_name in ['医疗','燃料','食物','舱室','风管','风机盘管']:\n",
    "    # 构建TRUNCATE TABLE语句\n",
    "    truncate_query = f\"TRUNCATE TABLE {table_name}\"\n",
    "    # 执行清空操作\n",
    "    cursor.execute(truncate_query)\n",
    "    # 提交事务\n",
    "conn.commit()\n",
    "for sql in sql_list:\n",
    "    print(sql)\n",
    "    cursor.execute(sql)\n",
    "conn.commit()\n"
   ]
  }
 ],
 "metadata": {
  "kernelspec": {
   "display_name": "Pytorch",
   "language": "python",
   "name": "pytorch"
  },
  "language_info": {
   "codemirror_mode": {
    "name": "ipython",
    "version": 3
   },
   "file_extension": ".py",
   "mimetype": "text/x-python",
   "name": "python",
   "nbconvert_exporter": "python",
   "pygments_lexer": "ipython3",
   "version": "3.10.14"
  }
 },
 "nbformat": 4,
 "nbformat_minor": 5
}
