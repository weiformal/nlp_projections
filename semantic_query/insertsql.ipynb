{
 "cells": [
  {
   "cell_type": "code",
   "execution_count": 11,
   "id": "8173e80b-9b5b-4c65-b882-9f44f20e5ee1",
   "metadata": {
    "editable": true,
    "slideshow": {
     "slide_type": ""
    },
    "tags": []
   },
   "outputs": [],
   "source": [
    "import math\n",
    "from datetime import timedelta, datetime\n",
    "import random\n",
    "import pymysql\n",
    "\n",
    "conn = pymysql.connect(host='localhost',\n",
    "                           user='root',\n",
    "                           password='',\n",
    "                           database='agent1',\n",
    "                           port=3306,\n",
    "                           charset='utf8mb4')\n",
    "cursor = conn.cursor()"
   ]
  },
  {
   "cell_type": "code",
   "execution_count": 12,
   "id": "19780fff-c2d1-450a-a3bc-315803d98328",
   "metadata": {
    "editable": true,
    "slideshow": {
     "slide_type": ""
    },
    "tags": []
   },
   "outputs": [],
   "source": [
    "\n",
    "date = \"{} 00:00:00\".format((datetime.now() - timedelta(days=6)).strftime('%Y-%m-%d'))\n",
    "start_date = datetime.strptime(date, \"%Y-%m-%d %H:%M:%S\")\n",
    "s_d = datetime.strptime(\"{} 09:00:00\".format((datetime.now() - timedelta(days=6)).strftime('%Y-%m-%d')), \"%Y-%m-%d %H:%M:%S\")\n",
    "\n",
    "\n",
    "id = 1\n",
    "id_f = 1\n",
    "id_m = 1\n",
    "id_d = 1\n",
    "sql_list = []\n",
    "for day in range(7):\n",
    "    dy_c = random.randint(100, 200)\n",
    "    current_date = start_date + day * timedelta(days=1)\n",
    "    cur_nine = s_d + day * timedelta(days=1)\n",
    "    sql_list += [\n",
    "            f\"INSERT INTO `agent`.`燃料`(`id`, `燃料名称`, `物资类型`, `库存量`, `消耗量`, `补给量`, `阈值`, `时间`) VALUES('m{id_m}', '天然气', '燃料', {dy_c}, 20, 0, 110, '{cur_nine}');\",\n",
    "            f\"INSERT INTO `agent`.`燃料`(`id`, `燃料名称`, `物资类型`, `库存量`, `消耗量`, `补给量`, `阈值`, `时间`) VALUES('m{id_m+1}', '柴油', '燃料', {dy_c}, 30, 0, 110, '{cur_nine}');\",\n",
    "            f\"INSERT INTO `agent`.`食物`(`id`, `食物名称`, `物资类型`, `库存量`, `消耗量`, `补给量`, `阈值`, `时间`) VALUES ('f{id_f}', '鸡肉', '食物', {dy_c}, 20, 0, 110, '{cur_nine}');\",\n",
    "            f\"INSERT INTO `agent`.`食物`(`id`, `食物名称`, `物资类型`, `库存量`, `消耗量`, `补给量`, `阈值`, `时间`) VALUES ('f{id_f+1}', '猪肉', '食物', {dy_c}, 20, 0, 110, '{cur_nine}');\",\n",
    "            f\"INSERT INTO `agent`.`食物`(`id`, `食物名称`, `物资类型`, `库存量`, `消耗量`, `补给量`, `阈值`, `时间`) VALUES ('f{id_f+2}', '白菜', '食物', {dy_c}, 30, 0, 110, '{cur_nine}');\",\n",
    "            f\"INSERT INTO `agent`.`食物`(`id`, `食物名称`, `物资类型`, `库存量`, `消耗量`, `补给量`, `阈值`, `时间`) VALUES ('f{id_f+3}', '青菜', '食物', {dy_c}, 250, 0, 110, '{cur_nine}');\",\n",
    "            f\"INSERT INTO `agent`.`医疗`(`id`, `医疗名称`, `物资类型`, `库存量`, `消耗量`, `补给量`, `阈值`, `时间`) VALUES ('m{id_m}', '医用酒精', '医疗用品', {dy_c}, 20, 0, 110, '{cur_nine}');\",\n",
    "            f\"INSERT INTO `agent`.`医疗`(`id`, `医疗名称`, `物资类型`, `库存量`, `消耗量`, `补给量`, `阈值`, `时间`) VALUES ('m{id_m+1}', '绷带', '医疗用品', {dy_c}, 30, 0, 110, '{cur_nine}');\"\n",
    "\n",
    "    ]\n",
    "    id_f +=4\n",
    "    id_m +=2\n",
    "\n",
    "\n",
    "    for hour in range(24):\n",
    "        formatted_date = (current_date + timedelta(hours=hour)).strftime(\"%Y-%m-%d %H:%M:%S\")\n",
    "        dy_c_tem = random.randint(10, 35)\n",
    "        shidu = round(random.uniform(50, 55), 1)\n",
    "        sqls = [\n",
    "            f\"INSERT INTO `agent`.`舱室`(`id`, `舱室名称`, `温度`, `湿度`, `温度阈值`, `湿度阈值`, `空调模式`, `风速`, `时间`) VALUES ('C{id}', '生活区', {dy_c_tem}, {shidu}, 30, 54.5, '50', 1, '{formatted_date}');\",\n",
    "            f\"INSERT INTO `agent`.`舱室`(`id`, `舱室名称`, `温度`, `湿度`, `温度阈值`, `湿度阈值`, `空调模式`, `风速`, `时间`) VALUES ('C{id + 1}', '主机舱', {dy_c_tem}, {shidu}, 30, 54.5, '制热', 5, '{formatted_date}');\",\n",
    "            f\"INSERT INTO `agent`.`舱室`(`id`, `舱室名称`, `温度`, `湿度`, `温度阈值`, `湿度阈值`, `空调模式`, `风速`, `时间`) VALUES ('C{id + 2}', '控制室', {dy_c_tem}, {shidu}, 30, 54.5, '制热', 3, '{formatted_date}');\",\n",
    "            f\"INSERT INTO `agent`.`舱室`(`id`, `舱室名称`, `温度`, `湿度`, `温度阈值`, `湿度阈值`, `空调模式`, `风速`, `时间`) VALUES ('C{id + 3}', '指挥室', {dy_c_tem}, {shidu}, 30, 54.5, '制冷', 5, '{formatted_date}');\",\n",
    "            f\"INSERT INTO `agent`.`舱室`(`id`, `舱室名称`, `温度`, `湿度`, `温度阈值`, `湿度阈值`, `空调模式`, `风速`, `时间`) VALUES ('C{id + 4}', '舰桥', {dy_c_tem}, {shidu}, 30, 54.5, '制热', 3, '{formatted_date}');\",\n",
    "            f\"INSERT INTO `agent`.`风管`(`id`, `设备名称`, `设备型号`, `部署位置`, `尺寸`, `材料`, `风量`, `风速`, `风压`, `阻力`, `湿度`, `静压损失`, `动压损失`, `噪音级别`, `漏风率`, `绝缘效能`, `维护周期`, `维护要求`, `时间`) VALUES ('D{id_d}', '风管1', '供冷设备', '主机舱', '0.5m x 0.5m', '不锈钢', 220.00, 2.30, 1030.00, 4.30, {shidu}, 330.00, 42.00, 45.90, 3.10, 61.00, '6', '风道清理', '{formatted_date}');\",\n",
    "            f\"INSERT INTO `agent`.`风管`(`id`, `设备名称`, `设备型号`, `部署位置`, `尺寸`, `材料`, `风量`, `风速`, `风压`, `阻力`, `湿度`, `静压损失`, `动压损失`, `噪音级别`, `漏风率`, `绝缘效能`, `维护周期`, `维护要求`, `时间`) VALUES ('D{id_d+1}', '风管2', '排烟设备', '主机舱', '0.4m x 0.4m', '铝合金', 210.00, 2.60, 1020.00, 3.10, {shidu}, 250.00, 40.00, 48.20, 4.40, 91.00, '3', '更换滤网', '{formatted_date}');\",\n",
    "            f\"INSERT INTO `agent`.`风机盘管`(`id`, `设备名称`, `部署位置`, `设备型号`, `制冷能力`, `制热能力`, `空气流量`, `温度阈值`, `温度`, `风速控制`, `制冷剂类型`, `风机类型`, `控制方式`, `电压`, `频率`, `噪音级别`, `节能性能`, `故障诊断和报警系统`, `安全特性`, `维护周期`, `维护要求`, `时间`) VALUES ('D{id_d}', '风机盘管1', '主机舱', 'AC-1001', 170, 240, 2380, '32', {dy_c_tem}, '3档', 'R-410A', '离心风机', '自动', '220', '50', 69.4, 4.60, '有', '过载保护，高温保护', '6', '更换滤网', '{formatted_date}');\",\n",
    "            f\"INSERT INTO `agent`.`风机盘管`(`id`, `设备名称`, `部署位置`, `设备型号`, `制冷能力`, `制热能力`, `空气流量`, `温度阈值`, `温度`, `风速控制`, `制冷剂类型`, `风机类型`, `控制方式`, `电压`, `频率`, `噪音级别`, `节能性能`, `故障诊断和报警系统`, `安全特性`, `维护周期`, `维护要求`, `时间`) VALUES ('D{id_d+1}', '风机盘管2', '主机舱', 'AC-2002', 180, 210, 1470, '32', {dy_c_tem}, '4档', 'R-134a', '螺旋风机', '远程控制', '220', '60', 61.5, 3.90, '有', '过载保护，漏电保护', '3', '风道清理', '{formatted_date}');\"\n",
    "            ]\n",
    "\n",
    "        id+=5\n",
    "        id_d+=2\n",
    "        sql_list += sqls\n",
    "\n"
   ]
  },
  {
   "cell_type": "code",
   "execution_count": 13,
   "id": "643f3cd4-68dc-44f5-a08f-8612a9322dcd",
   "metadata": {},
   "outputs": [],
   "source": [
    "for table_name in ['医疗','燃料','食物','舱室','风管','风机盘管']:\n",
    "    # 构建TRUNCATE TABLE语句\n",
    "    truncate_query = f\"TRUNCATE TABLE {table_name}\"\n",
    "    # 执行清空操作\n",
    "    cursor.execute(truncate_query)\n",
    "    # 提交事务\n",
    "conn.commit()"
   ]
  },
  {
   "cell_type": "code",
   "execution_count": 14,
   "id": "49a8b4ae-2398-4552-ba54-797f58237f62",
   "metadata": {},
   "outputs": [
    {
     "name": "stdout",
     "output_type": "stream",
     "text": [
      "INSERT INTO `agent`.`燃料`(`id`, `燃料名称`, `物资类型`, `库存量`, `消耗量`, `补给量`, `阈值`, `时间`) VALUES('m1', '天然气', '燃料', 179, 20, 0, 110, '2024-08-07 09:00:00');\n"
     ]
    },
    {
     "ename": "IntegrityError",
     "evalue": "(1062, \"Duplicate entry 'm1' for key '燃料.PRIMARY'\")",
     "output_type": "error",
     "traceback": [
      "\u001b[0;31m---------------------------------------------------------------------------\u001b[0m",
      "\u001b[0;31mIntegrityError\u001b[0m                            Traceback (most recent call last)",
      "Cell \u001b[0;32mIn[14], line 3\u001b[0m\n\u001b[1;32m      1\u001b[0m \u001b[38;5;28;01mfor\u001b[39;00m sql \u001b[38;5;129;01min\u001b[39;00m sql_list:\n\u001b[1;32m      2\u001b[0m     \u001b[38;5;28mprint\u001b[39m(sql)\n\u001b[0;32m----> 3\u001b[0m     \u001b[43mcursor\u001b[49m\u001b[38;5;241;43m.\u001b[39;49m\u001b[43mexecute\u001b[49m\u001b[43m(\u001b[49m\u001b[43msql\u001b[49m\u001b[43m)\u001b[49m\n\u001b[1;32m      4\u001b[0m conn\u001b[38;5;241m.\u001b[39mcommit()\n",
      "File \u001b[0;32m~/miniconda3/envs/Pytorch/lib/python3.10/site-packages/pymysql/cursors.py:153\u001b[0m, in \u001b[0;36mCursor.execute\u001b[0;34m(self, query, args)\u001b[0m\n\u001b[1;32m    149\u001b[0m     \u001b[38;5;28;01mpass\u001b[39;00m\n\u001b[1;32m    151\u001b[0m query \u001b[38;5;241m=\u001b[39m \u001b[38;5;28mself\u001b[39m\u001b[38;5;241m.\u001b[39mmogrify(query, args)\n\u001b[0;32m--> 153\u001b[0m result \u001b[38;5;241m=\u001b[39m \u001b[38;5;28;43mself\u001b[39;49m\u001b[38;5;241;43m.\u001b[39;49m\u001b[43m_query\u001b[49m\u001b[43m(\u001b[49m\u001b[43mquery\u001b[49m\u001b[43m)\u001b[49m\n\u001b[1;32m    154\u001b[0m \u001b[38;5;28mself\u001b[39m\u001b[38;5;241m.\u001b[39m_executed \u001b[38;5;241m=\u001b[39m query\n\u001b[1;32m    155\u001b[0m \u001b[38;5;28;01mreturn\u001b[39;00m result\n",
      "File \u001b[0;32m~/miniconda3/envs/Pytorch/lib/python3.10/site-packages/pymysql/cursors.py:322\u001b[0m, in \u001b[0;36mCursor._query\u001b[0;34m(self, q)\u001b[0m\n\u001b[1;32m    320\u001b[0m conn \u001b[38;5;241m=\u001b[39m \u001b[38;5;28mself\u001b[39m\u001b[38;5;241m.\u001b[39m_get_db()\n\u001b[1;32m    321\u001b[0m \u001b[38;5;28mself\u001b[39m\u001b[38;5;241m.\u001b[39m_clear_result()\n\u001b[0;32m--> 322\u001b[0m \u001b[43mconn\u001b[49m\u001b[38;5;241;43m.\u001b[39;49m\u001b[43mquery\u001b[49m\u001b[43m(\u001b[49m\u001b[43mq\u001b[49m\u001b[43m)\u001b[49m\n\u001b[1;32m    323\u001b[0m \u001b[38;5;28mself\u001b[39m\u001b[38;5;241m.\u001b[39m_do_get_result()\n\u001b[1;32m    324\u001b[0m \u001b[38;5;28;01mreturn\u001b[39;00m \u001b[38;5;28mself\u001b[39m\u001b[38;5;241m.\u001b[39mrowcount\n",
      "File \u001b[0;32m~/miniconda3/envs/Pytorch/lib/python3.10/site-packages/pymysql/connections.py:563\u001b[0m, in \u001b[0;36mConnection.query\u001b[0;34m(self, sql, unbuffered)\u001b[0m\n\u001b[1;32m    561\u001b[0m     sql \u001b[38;5;241m=\u001b[39m sql\u001b[38;5;241m.\u001b[39mencode(\u001b[38;5;28mself\u001b[39m\u001b[38;5;241m.\u001b[39mencoding, \u001b[38;5;124m\"\u001b[39m\u001b[38;5;124msurrogateescape\u001b[39m\u001b[38;5;124m\"\u001b[39m)\n\u001b[1;32m    562\u001b[0m \u001b[38;5;28mself\u001b[39m\u001b[38;5;241m.\u001b[39m_execute_command(COMMAND\u001b[38;5;241m.\u001b[39mCOM_QUERY, sql)\n\u001b[0;32m--> 563\u001b[0m \u001b[38;5;28mself\u001b[39m\u001b[38;5;241m.\u001b[39m_affected_rows \u001b[38;5;241m=\u001b[39m \u001b[38;5;28;43mself\u001b[39;49m\u001b[38;5;241;43m.\u001b[39;49m\u001b[43m_read_query_result\u001b[49m\u001b[43m(\u001b[49m\u001b[43munbuffered\u001b[49m\u001b[38;5;241;43m=\u001b[39;49m\u001b[43munbuffered\u001b[49m\u001b[43m)\u001b[49m\n\u001b[1;32m    564\u001b[0m \u001b[38;5;28;01mreturn\u001b[39;00m \u001b[38;5;28mself\u001b[39m\u001b[38;5;241m.\u001b[39m_affected_rows\n",
      "File \u001b[0;32m~/miniconda3/envs/Pytorch/lib/python3.10/site-packages/pymysql/connections.py:825\u001b[0m, in \u001b[0;36mConnection._read_query_result\u001b[0;34m(self, unbuffered)\u001b[0m\n\u001b[1;32m    823\u001b[0m \u001b[38;5;28;01melse\u001b[39;00m:\n\u001b[1;32m    824\u001b[0m     result \u001b[38;5;241m=\u001b[39m MySQLResult(\u001b[38;5;28mself\u001b[39m)\n\u001b[0;32m--> 825\u001b[0m     \u001b[43mresult\u001b[49m\u001b[38;5;241;43m.\u001b[39;49m\u001b[43mread\u001b[49m\u001b[43m(\u001b[49m\u001b[43m)\u001b[49m\n\u001b[1;32m    826\u001b[0m \u001b[38;5;28mself\u001b[39m\u001b[38;5;241m.\u001b[39m_result \u001b[38;5;241m=\u001b[39m result\n\u001b[1;32m    827\u001b[0m \u001b[38;5;28;01mif\u001b[39;00m result\u001b[38;5;241m.\u001b[39mserver_status \u001b[38;5;129;01mis\u001b[39;00m \u001b[38;5;129;01mnot\u001b[39;00m \u001b[38;5;28;01mNone\u001b[39;00m:\n",
      "File \u001b[0;32m~/miniconda3/envs/Pytorch/lib/python3.10/site-packages/pymysql/connections.py:1199\u001b[0m, in \u001b[0;36mMySQLResult.read\u001b[0;34m(self)\u001b[0m\n\u001b[1;32m   1197\u001b[0m \u001b[38;5;28;01mdef\u001b[39;00m \u001b[38;5;21mread\u001b[39m(\u001b[38;5;28mself\u001b[39m):\n\u001b[1;32m   1198\u001b[0m     \u001b[38;5;28;01mtry\u001b[39;00m:\n\u001b[0;32m-> 1199\u001b[0m         first_packet \u001b[38;5;241m=\u001b[39m \u001b[38;5;28;43mself\u001b[39;49m\u001b[38;5;241;43m.\u001b[39;49m\u001b[43mconnection\u001b[49m\u001b[38;5;241;43m.\u001b[39;49m\u001b[43m_read_packet\u001b[49m\u001b[43m(\u001b[49m\u001b[43m)\u001b[49m\n\u001b[1;32m   1201\u001b[0m         \u001b[38;5;28;01mif\u001b[39;00m first_packet\u001b[38;5;241m.\u001b[39mis_ok_packet():\n\u001b[1;32m   1202\u001b[0m             \u001b[38;5;28mself\u001b[39m\u001b[38;5;241m.\u001b[39m_read_ok_packet(first_packet)\n",
      "File \u001b[0;32m~/miniconda3/envs/Pytorch/lib/python3.10/site-packages/pymysql/connections.py:775\u001b[0m, in \u001b[0;36mConnection._read_packet\u001b[0;34m(self, packet_type)\u001b[0m\n\u001b[1;32m    773\u001b[0m     \u001b[38;5;28;01mif\u001b[39;00m \u001b[38;5;28mself\u001b[39m\u001b[38;5;241m.\u001b[39m_result \u001b[38;5;129;01mis\u001b[39;00m \u001b[38;5;129;01mnot\u001b[39;00m \u001b[38;5;28;01mNone\u001b[39;00m \u001b[38;5;129;01mand\u001b[39;00m \u001b[38;5;28mself\u001b[39m\u001b[38;5;241m.\u001b[39m_result\u001b[38;5;241m.\u001b[39munbuffered_active \u001b[38;5;129;01mis\u001b[39;00m \u001b[38;5;28;01mTrue\u001b[39;00m:\n\u001b[1;32m    774\u001b[0m         \u001b[38;5;28mself\u001b[39m\u001b[38;5;241m.\u001b[39m_result\u001b[38;5;241m.\u001b[39munbuffered_active \u001b[38;5;241m=\u001b[39m \u001b[38;5;28;01mFalse\u001b[39;00m\n\u001b[0;32m--> 775\u001b[0m     \u001b[43mpacket\u001b[49m\u001b[38;5;241;43m.\u001b[39;49m\u001b[43mraise_for_error\u001b[49m\u001b[43m(\u001b[49m\u001b[43m)\u001b[49m\n\u001b[1;32m    776\u001b[0m \u001b[38;5;28;01mreturn\u001b[39;00m packet\n",
      "File \u001b[0;32m~/miniconda3/envs/Pytorch/lib/python3.10/site-packages/pymysql/protocol.py:219\u001b[0m, in \u001b[0;36mMysqlPacket.raise_for_error\u001b[0;34m(self)\u001b[0m\n\u001b[1;32m    217\u001b[0m \u001b[38;5;28;01mif\u001b[39;00m DEBUG:\n\u001b[1;32m    218\u001b[0m     \u001b[38;5;28mprint\u001b[39m(\u001b[38;5;124m\"\u001b[39m\u001b[38;5;124merrno =\u001b[39m\u001b[38;5;124m\"\u001b[39m, errno)\n\u001b[0;32m--> 219\u001b[0m \u001b[43merr\u001b[49m\u001b[38;5;241;43m.\u001b[39;49m\u001b[43mraise_mysql_exception\u001b[49m\u001b[43m(\u001b[49m\u001b[38;5;28;43mself\u001b[39;49m\u001b[38;5;241;43m.\u001b[39;49m\u001b[43m_data\u001b[49m\u001b[43m)\u001b[49m\n",
      "File \u001b[0;32m~/miniconda3/envs/Pytorch/lib/python3.10/site-packages/pymysql/err.py:150\u001b[0m, in \u001b[0;36mraise_mysql_exception\u001b[0;34m(data)\u001b[0m\n\u001b[1;32m    148\u001b[0m \u001b[38;5;28;01mif\u001b[39;00m errorclass \u001b[38;5;129;01mis\u001b[39;00m \u001b[38;5;28;01mNone\u001b[39;00m:\n\u001b[1;32m    149\u001b[0m     errorclass \u001b[38;5;241m=\u001b[39m InternalError \u001b[38;5;28;01mif\u001b[39;00m errno \u001b[38;5;241m<\u001b[39m \u001b[38;5;241m1000\u001b[39m \u001b[38;5;28;01melse\u001b[39;00m OperationalError\n\u001b[0;32m--> 150\u001b[0m \u001b[38;5;28;01mraise\u001b[39;00m errorclass(errno, errval)\n",
      "\u001b[0;31mIntegrityError\u001b[0m: (1062, \"Duplicate entry 'm1' for key '燃料.PRIMARY'\")"
     ]
    }
   ],
   "source": [
    "\n",
    "for sql in sql_list:\n",
    "    print(sql)\n",
    "    cursor.execute(sql)\n",
    "conn.commit()\n"
   ]
  },
  {
   "cell_type": "code",
   "execution_count": null,
   "id": "d661fdf1-e35d-4198-aeec-ff1f7a024982",
   "metadata": {},
   "outputs": [],
   "source": []
  }
 ],
 "metadata": {
  "kernelspec": {
   "display_name": "Pytorch",
   "language": "python",
   "name": "pytorch"
  },
  "language_info": {
   "codemirror_mode": {
    "name": "ipython",
    "version": 3
   },
   "file_extension": ".py",
   "mimetype": "text/x-python",
   "name": "python",
   "nbconvert_exporter": "python",
   "pygments_lexer": "ipython3",
   "version": "3.10.14"
  }
 },
 "nbformat": 4,
 "nbformat_minor": 5
}
