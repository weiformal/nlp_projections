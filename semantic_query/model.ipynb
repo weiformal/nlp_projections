{
 "cells": [
  {
   "cell_type": "code",
   "execution_count": null,
   "id": "a6892e12-4857-4329-adad-ab2b74858645",
   "metadata": {},
   "outputs": [],
   "source": [
    "import os\n",
    "\n",
    "os.environ['CUDA_VISIBLE_DEVICES'] = '1'"
   ]
  },
  {
   "cell_type": "code",
   "execution_count": null,
   "id": "95743016-d844-49c6-b8fc-d755b30bba87",
   "metadata": {
    "editable": true,
    "slideshow": {
     "slide_type": ""
    },
    "tags": []
   },
   "outputs": [],
   "source": [
    "from langchain_openai import ChatOpenAI,OpenAI\n",
    "glm = ChatOpenAI(\n",
    "    temperature=0.6,\n",
    "    # model=\"glm-3-turbo\",\n",
    "    model=\"glm-4\",\n",
    "    openai_api_key=\"\",\n",
    "    openai_api_base=\"https://open.bigmodel.cn/api/paas/v4\"\n",
    ")"
   ]
  },
  {
   "cell_type": "code",
   "execution_count": null,
   "id": "f35d90e7-1bee-4d67-b381-548f669e7536",
   "metadata": {
    "editable": true,
    "slideshow": {
     "slide_type": ""
    },
    "tags": []
   },
   "outputs": [],
   "source": [
    "from langchain_community.llms.ollama import Ollama\n",
    "from langchain_community.llms import VLLM\n",
    "from langchain_community.chat_models.ollama import ChatOllama\n",
    "from vllm import LLM\n",
    "\n",
    "\n",
    "ollm = ChatOllama(model = \"qwen2\")\n"
   ]
  },
  {
   "cell_type": "code",
   "execution_count": null,
   "id": "bdf7a480-1311-4032-bdac-ec88e50b6abf",
   "metadata": {},
   "outputs": [],
   "source": []
  }
 ],
 "metadata": {
  "kernelspec": {
   "display_name": "Pytorch",
   "language": "python",
   "name": "pytorch"
  },
  "language_info": {
   "codemirror_mode": {
    "name": "ipython",
    "version": 3
   },
   "file_extension": ".py",
   "mimetype": "text/x-python",
   "name": "python",
   "nbconvert_exporter": "python",
   "pygments_lexer": "ipython3",
   "version": "3.10.14"
  }
 },
 "nbformat": 4,
 "nbformat_minor": 5
}
