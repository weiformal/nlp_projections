{
 "cells": [
  {
   "cell_type": "code",
   "execution_count": null,
   "id": "a6892e12-4857-4329-adad-ab2b74858645",
   "metadata": {},
   "outputs": [],
   "source": [
    "import os\n",
    "# langsmith的环境\n",
    "# os.environ[\"LANGCHAIN_TRACING_V2\"] = \"true\"\n",
    "# os.environ[\"LANGCHAIN_API_KEY\"] = \"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\"\n",
    "os.environ['CUDA_VISIBLE_DEVICES'] = '1'"
   ]
  },
  {
   "cell_type": "code",
   "execution_count": null,
   "id": "95743016-d844-49c6-b8fc-d755b30bba87",
   "metadata": {
    "editable": true,
    "slideshow": {
     "slide_type": ""
    },
    "tags": []
   },
   "outputs": [],
   "source": [
    "from langchain_openai import ChatOpenAI,OpenAI\n",
    "glm = ChatOpenAI(\n",
    "    temperature=0.6,\n",
    "    # model=\"glm-3-turbo\",\n",
    "    model=\"glm-4\",\n",
    "    openai_api_key=\"\",\n",
    "    openai_api_base=\"https://open.bigmodel.cn/api/paas/v4\"\n",
    ")"
   ]
  },
  {
   "cell_type": "code",
   "execution_count": null,
   "id": "f35d90e7-1bee-4d67-b381-548f669e7536",
   "metadata": {
    "editable": true,
    "slideshow": {
     "slide_type": ""
    },
    "tags": []
   },
   "outputs": [],
   "source": [
    "from langchain_community.llms.ollama import Ollama\n",
    "from langchain_community.llms import VLLM\n",
    "from langchain_community.chat_models.ollama import ChatOllama\n",
    "from vllm import LLM\n",
    "\n",
    "\n",
    "ollm = ChatOllama(model = \"qwen2\")\n",
    "# llm = VLLM(model=\"/home/weibs/.cache/modelscope/hub/qwen/Qwen-7B-chat\",trust_remote_code=True,enforce_eager=True)\n",
    "# llm.invoke(\"你好\")\n",
    "# from langchain_community.chat_models import ChatZhipuAI\n",
    "# import os\n",
    "# os.environ[\"ZHIPUAI_API_KEY\"] = \"036549c5f123aa1a284cbd502edad88c.OpF6mns4FtQ4MaHO\"\n",
    "# model = ChatZhipuAI(model=\"glm-4\",streamer = True)"
   ]
  }
 ],
 "metadata": {
  "kernelspec": {
   "display_name": "Pytorch",
   "language": "python",
   "name": "pytorch"
  },
  "language_info": {
   "codemirror_mode": {
    "name": "ipython",
    "version": 3
   },
   "file_extension": ".py",
   "mimetype": "text/x-python",
   "name": "python",
   "nbconvert_exporter": "python",
   "pygments_lexer": "ipython3",
   "version": "3.10.14"
  }
 },
 "nbformat": 4,
 "nbformat_minor": 5
}
