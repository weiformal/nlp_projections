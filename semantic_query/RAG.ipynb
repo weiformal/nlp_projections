{
 "cells": [
  {
   "cell_type": "code",
   "execution_count": 25,
   "id": "2d6f4620-1beb-4ba3-81d3-ae9e8eb129ba",
   "metadata": {},
   "outputs": [],
   "source": [
    "\"\"\"\n",
    "RAG的基本流程和方法\n",
    "1、使用langchain的document_load来加载文本\n",
    "2、使用text_split来分割文本\n",
    "3、加载为document类型数据\n",
    "4、embedding成向量\n",
    "5、使用chorma和fassio来存储向量（非持久性，存在内存中）\n",
    "6、可以将向量存在splite中做永久性储存\n",
    "\"\"\"\n"
   ]
  },
  {
   "cell_type": "code",
   "execution_count": 20,
   "id": "64454a5d-b30c-4163-b2dc-f6cc1e53c6cb",
   "metadata": {},
   "outputs": [],
   "source": [
    "'''RAG的utils'''\n",
    "import jsonlines\n",
    "from langchain.indexes import SQLRecordManager, index\n",
    "from langchain.text_splitter import RecursiveJsonSplitter,CharacterTextSplitter\n",
    "import sentence_transformers\n",
    "from typing import List\n",
    "from langchain_core.documents import Document\n",
    "from langchain.vectorstores.chroma import Chroma\n",
    "from langchain_community.embeddings import HuggingFaceEmbeddings\n",
    "from langchain.document_loaders import PDFMinerLoader\n",
    "import os\n",
    "\n",
    "def acq_filenames(folder_path):\n",
    "    filename_list = []\n",
    "    for filename in os.listdir(folder_path):\n",
    "        filename_list.append(folder_path + \"/\" + filename)\n",
    "    return filename_list\n",
    "\n",
    "def read_jsonl(jsonl_file):\n",
    "    new_dict = {}\n",
    "    with open(jsonl_file,\"r\",encoding=\"utf-8\") as jsonfile:\n",
    "        for item in jsonlines.Reader(jsonfile):\n",
    "            for key, value in item.items():\n",
    "                new_dict[key] = value\n",
    "    return new_dict\n",
    "\n",
    "def json2doc(file_path):\n",
    "    json_data = read_jsonl(text_path)\n",
    "\n",
    "    splitter = RecursiveJsonSplitter(max_chunk_size=500)\n",
    "    # 递归拆分json数据 - 如果需要访问/操作较小的json块\n",
    "    # json_chunks = splitter.split_json(json_data=json_data)\n",
    "    # 拆分器还可以输出文档\n",
    "    docs = splitter.create_documents(texts=[json_data])\n",
    "    return docs\n",
    "\n",
    "def pdf2doc(file_path):\n",
    "\n",
    "    docs = PDFMinerLoader(file_path).load()\n",
    "    \n",
    "    return docs\n",
    "    \n",
    "    \n",
    "\n",
    "def text2embedding(docs):\n",
    "    # 把文档进行分块\n",
    "    chunks = CharacterTextSplitter(separator=\"\\n\", chunk_size=1000, chunk_overlap=10, add_start_index=True).split_documents(documents=docs)\n",
    "    \n",
    "    # 向量化\n",
    "    embedding_model = \"localmodel/bce-embedding-base_v1\"\n",
    "    embeddings = HuggingFaceEmbeddings(model_name=embedding_model, model_kwargs={'device': \"cuda:0\"})\n",
    "    embeddings.client = sentence_transformers.SentenceTransformer(embeddings.model_name, device=\"cuda:0\")\n",
    "    \n",
    "    vector_store = Chroma.from_documents(documents=chunks, embedding=embeddings)\n",
    "    \n",
    "    return vector_store\n",
    "    \n",
    "def permanent_stored(chunks):\n",
    "    chunks = CharacterTextSplitter(separator=\"\\n\", chunk_size=1000, chunk_overlap=10, add_start_index=True).split_documents(documents=docs)\n",
    "    # 向量化\n",
    "    embedding_model = \"bce-embedding-base_v1\"\n",
    "    embeddings = HuggingFaceEmbeddings(model_name=embedding_model, model_kwargs={'device': \"cuda:0\"})\n",
    "    embeddings.client = sentence_transformers.SentenceTransformer(embeddings.model_name, device=\"cuda:0\")\n",
    "\n",
    "    vectorstore = Chroma.from_documents(\n",
    "        documents=chunks, embedding=embeddings,\n",
    "        persist_directory='chroma_db_demo'  # 存储db地址\n",
    "                )\n",
    "\n",
    "    return vectorstore\n",
    "\n"
   ]
  },
  {
   "cell_type": "code",
   "execution_count": 25,
   "id": "d14a8eb0-da77-4bdd-b433-545d334823ab",
   "metadata": {},
   "outputs": [
    {
     "data": {
      "application/vnd.jupyter.widget-view+json": {
       "model_id": "1465053fb3ab440e98aaf2f8051c28cb",
       "version_major": 2,
       "version_minor": 0
      },
      "text/plain": [
       "  0%|          | 0/2 [00:00<?, ?it/s]"
      ]
     },
     "metadata": {},
     "output_type": "display_data"
    }
   ],
   "source": [
    "'''stored embedding'''\n",
    "from langchain.document_loaders.pdf import PDFMinerLoader\n",
    "from langchain_community.document_loaders import JSONLoader\n",
    "import time\n",
    "from langchain.prompts import PromptTemplate\n",
    "from langchain_core.runnables import RunnablePassthrough\n",
    "from langchain_core.output_parsers import StrOutputParser\n",
    "from transformers import AutoTokenizer, AutoModelForCausalLM\n",
    "import os\n",
    "import torch\n",
    "from tqdm.notebook import tqdm\n",
    "from time import sleep\n",
    "\n",
    "\n",
    "# 使用json\n",
    "text_path = \"files\"\n",
    "file_list = acq_filenames(text_path)\n",
    "docs = []\n",
    "\n",
    "for file in tqdm(file_list):\n",
    "\n",
    "    if file.endswith(\".jsonl\"):\n",
    "        doc = json2doc(file)\n",
    "        for item in doc:\n",
    "            docs.append(item)\n",
    "    elif file.endswith(\".pdf\"):\n",
    "        doc = pdf2doc(file)\n",
    "        for item in doc:\n",
    "            docs.append(item) \n",
    "\n",
    "\n",
    "\n"
   ]
  },
  {
   "cell_type": "code",
   "execution_count": 26,
   "id": "b1cf95fa-7be9-4051-9419-fb6e613e4cc1",
   "metadata": {},
   "outputs": [],
   "source": [
    "vector_store = permanent_stored(docs)"
   ]
  }
 ],
 "metadata": {
  "kernelspec": {
   "display_name": "Pytorch",
   "language": "python",
   "name": "pytorch"
  },
  "language_info": {
   "codemirror_mode": {
    "name": "ipython",
    "version": 3
   },
   "file_extension": ".py",
   "mimetype": "text/x-python",
   "name": "python",
   "nbconvert_exporter": "python",
   "pygments_lexer": "ipython3",
   "version": "3.10.14"
  }
 },
 "nbformat": 4,
 "nbformat_minor": 5
}
