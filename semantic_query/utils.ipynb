{
 "cells": [
  {
   "cell_type": "code",
   "execution_count": null,
   "id": "62f11cab-ec07-4c36-aa02-8ae0f5e13355",
   "metadata": {
    "editable": true,
    "slideshow": {
     "slide_type": ""
    },
    "tags": []
   },
   "outputs": [],
   "source": [
    "import re\n",
    "\n",
    "# 正则表达式匹配json\n",
    "def find_dict(text):\n",
    "    # 正则表达式模式\n",
    "    pattern = r\"\\{.*?\\}\"\n",
    "    # 使用 re.search 提取第一个匹配\n",
    "    match = re.search(pattern, text.replace(\"'\",'\"'), re.DOTALL)\n",
    "    if match:\n",
    "        # 提取到的列表字符串\n",
    "        list_str = match.group(0)\n",
    "        print(list_str)\n",
    "        return list_str\n",
    "    else:\n",
    "        return {}"
   ]
  }
 ],
 "metadata": {
  "kernelspec": {
   "display_name": "Pytorch",
   "language": "python",
   "name": "pytorch"
  },
  "language_info": {
   "codemirror_mode": {
    "name": "ipython",
    "version": 3
   },
   "file_extension": ".py",
   "mimetype": "text/x-python",
   "name": "python",
   "nbconvert_exporter": "python",
   "pygments_lexer": "ipython3",
   "version": "3.10.14"
  }
 },
 "nbformat": 4,
 "nbformat_minor": 5
}
