{
 "cells": [
  {
   "cell_type": "code",
   "execution_count": 25,
   "id": "2d6f4620-1beb-4ba3-81d3-ae9e8eb129ba",
   "metadata": {},
   "outputs": [],
   "source": [
    "\"\"\"\n",
    "RAG的基本流程和方法\n",
    "1、使用langchain的document_load来加载文本\n",
    "2、使用text_split来分割文本\n",
    "3、加载为document类型数据\n",
    "4、embedding成向量\n",
    "5、使用chorma和fassio来存储向量（非持久性，存在内存中）\n",
    "6、可以将向量存在splite中做永久性储存\n",
    "\"\"\"\n",
    "\n",
    "from langchain_community.llms.ollama import Ollama\n",
    "from langchain_community.chat_models.ollama import ChatOllama\n",
    "\n",
    "llm = Ollama(model = \"glm4\")"
   ]
  },
  {
   "cell_type": "code",
   "execution_count": 1,
   "id": "6b2ca7e5-c400-4481-8586-df30554884ef",
   "metadata": {},
   "outputs": [],
   "source": [
    "from langchain_community.chat_models import ChatZhipuAI\n",
    "import os\n",
    "os.environ[\"ZHIPUAI_API_KEY\"] = \"\"\n",
    "model = ChatZhipuAI(model=\"glm-4\",streamer = True)"
   ]
  },
  {
   "cell_type": "code",
   "execution_count": 1,
   "id": "de882a4f-fca9-4c5d-a8dd-643914e8d36d",
   "metadata": {},
   "outputs": [],
   "source": [
    "from langchain.llms.base import LLM\n",
    "from typing import Optional, List, Mapping, Any\n",
    "import requests\n",
    "\n",
    "class local_model(LLM):\n",
    "    history = []\n",
    "    def __init__(self):\n",
    "        super().__init__()\n",
    "        \n",
    "    @property\n",
    "    def _llm_type(self) -> str:\n",
    "        return \"local_model\"\n",
    "\n",
    "    def _call(self, prompt: str, stop: Optional[List[str]] = None) -> str:\n",
    "        data={'text':prompt}\n",
    "        url = \"http://0.0.0.0:6667/chat/\"\n",
    "        response = requests.post(url, json=data)\n",
    "        if response.status_code!=200:\n",
    "            return \"error\"\n",
    "        resp = response.json()\n",
    "        if stop is not None:\n",
    "            response = enforce_stop_tokens(response, stop)\n",
    "        self.history = self.history+[[None, resp['result']]]\n",
    "        return resp['result']"
   ]
  },
  {
   "cell_type": "code",
   "execution_count": 4,
   "id": "64454a5d-b30c-4163-b2dc-f6cc1e53c6cb",
   "metadata": {},
   "outputs": [],
   "source": [
    "'''RAG的utils'''\n",
    "import jsonlines\n",
    "from langchain.indexes import SQLRecordManager, index\n",
    "from langchain.text_splitter import RecursiveJsonSplitter,CharacterTextSplitter\n",
    "import sentence_transformers\n",
    "from typing import List\n",
    "from langchain_core.documents import Document\n",
    "from langchain.vectorstores.chroma import Chroma\n",
    "from langchain_community.embeddings import HuggingFaceEmbeddings\n",
    "from langchain.document_loaders import PDFMinerLoader\n",
    "import os\n",
    "\n",
    "def acq_filenames(folder_path):\n",
    "    filename_list = []\n",
    "    for filename in os.listdir(folder_path):\n",
    "        filename_list.append(folder_path + \"/\" + filename)\n",
    "    return filename_list\n",
    "\n",
    "def read_jsonl(jsonl_file):\n",
    "    new_dict = {}\n",
    "    with open(jsonl_file,\"r\",encoding=\"utf-8\") as jsonfile:\n",
    "        for item in jsonlines.Reader(jsonfile):\n",
    "            for key, value in item.items():\n",
    "                new_dict[key] = value\n",
    "    return new_dict\n",
    "\n",
    "def json2doc(file_path):\n",
    "    json_data = read_jsonl(text_path)\n",
    "\n",
    "    splitter = RecursiveJsonSplitter(max_chunk_size=500)\n",
    "    # 递归拆分json数据 - 如果需要访问/操作较小的json块\n",
    "    # json_chunks = splitter.split_json(json_data=json_data)\n",
    "    # 拆分器还可以输出文档\n",
    "    docs = splitter.create_documents(texts=[json_data])\n",
    "    return docs\n",
    "\n",
    "def pdf2doc(file_path):\n",
    "\n",
    "    docs = PDFMinerLoader(file_path).load()\n",
    "    \n",
    "    return docs\n",
    "    \n",
    "    \n",
    "\n",
    "def text2embedding(docs):\n",
    "    # 把文档进行分块\n",
    "    chunks = CharacterTextSplitter(separator=\"\\n\", chunk_size=1000, chunk_overlap=10, add_start_index=True).split_documents(documents=docs)\n",
    "    \n",
    "    # 向量化\n",
    "    embedding_model = \"\"\n",
    "    embeddings = HuggingFaceEmbeddings(model_name=embedding_model, model_kwargs={'device': \"cuda:1\"})\n",
    "    embeddings.client = sentence_transformers.SentenceTransformer(embeddings.model_name, device=\"cuda:1\")\n",
    "    \n",
    "    vector_store = Chroma.from_documents(documents=chunks, embedding=embeddings)\n",
    "    \n",
    "    return vector_store\n",
    "    \n",
    "def permanent_stored(chunks):\n",
    "    chunks = CharacterTextSplitter(separator=\"\\n\", chunk_size=1000, chunk_overlap=10, add_start_index=True).split_documents(documents=docs)\n",
    "    # 向量化\n",
    "    embedding_model = \"\"\n",
    "    embeddings = HuggingFaceEmbeddings(model_name=embedding_model, model_kwargs={'device': \"cuda:1\"})\n",
    "    embeddings.client = sentence_transformers.SentenceTransformer(embeddings.model_name, device=\"cuda:1\")\n",
    "\n",
    "    vectorstore = Chroma.from_documents(\n",
    "        documents=chunks, embedding=embeddings,\n",
    "        persist_directory='chroma_db_demo'  # 存储db地址\n",
    "                )\n",
    "\n",
    "    return vectorstore\n",
    "\n"
   ]
  },
  {
   "cell_type": "code",
   "execution_count": 3,
   "id": "d14a8eb0-da77-4bdd-b433-545d334823ab",
   "metadata": {},
   "outputs": [
    {
     "data": {
      "application/vnd.jupyter.widget-view+json": {
       "model_id": "2f59e93a921146ae978b9b49320dec69",
       "version_major": 2,
       "version_minor": 0
      },
      "text/plain": [
       "  0%|          | 0/7 [00:00<?, ?it/s]"
      ]
     },
     "metadata": {},
     "output_type": "display_data"
    }
   ],
   "source": [
    "'''stored embedding'''\n",
    "from langchain.document_loaders.pdf import PDFMinerLoader\n",
    "from langchain_community.document_loaders import JSONLoader\n",
    "import time\n",
    "from langchain.prompts import PromptTemplate\n",
    "from langchain_core.runnables import RunnablePassthrough\n",
    "from langchain_core.output_parsers import StrOutputParser\n",
    "from transformers import AutoTokenizer, AutoModelForCausalLM\n",
    "import os\n",
    "import torch\n",
    "from tqdm.notebook import tqdm\n",
    "from time import sleep\n",
    "\n",
    "\n",
    "# 使用json\n",
    "# text_path = \"./text_file/output.jsonl\"\n",
    "file_list = acq_filenames(\"poem\")\n",
    "docs = []\n",
    "\n",
    "for file in tqdm(file_list):\n",
    "\n",
    "    if file.endswith(\".jsonl\"):\n",
    "        doc = json2doc(file)\n",
    "        for item in doc:\n",
    "            docs.append(item)\n",
    "    elif file.endswith(\".pdf\"):\n",
    "        doc = pdf2doc(file)\n",
    "        for item in doc:\n",
    "            docs.append(item) \n",
    "\n",
    "\n",
    "\n"
   ]
  },
  {
   "cell_type": "code",
   "execution_count": 5,
   "id": "b1cf95fa-7be9-4051-9419-fb6e613e4cc1",
   "metadata": {},
   "outputs": [
    {
     "name": "stderr",
     "output_type": "stream",
     "text": [
      "/home/weibs/miniconda3/envs/Pytorch/lib/python3.10/site-packages/langchain_core/_api/deprecation.py:139: LangChainDeprecationWarning: The class `HuggingFaceEmbeddings` was deprecated in LangChain 0.2.2 and will be removed in 0.3.0. An updated version of the class exists in the langchain-huggingface package and should be used instead. To use it run `pip install -U langchain-huggingface` and import as `from langchain_huggingface import HuggingFaceEmbeddings`.\n",
      "  warn_deprecated(\n"
     ]
    }
   ],
   "source": [
    "vector_store = permanent_stored(docs)"
   ]
  },
  {
   "cell_type": "code",
   "execution_count": 6,
   "id": "cf8221b3-07d4-4877-a400-70809b59e88a",
   "metadata": {},
   "outputs": [
    {
     "name": "stdout",
     "output_type": "stream",
     "text": [
      "\n",
      "诗礼乐教化的价值主要体现在以下几个方面：\n",
      "\n",
      "1. **情感浸润**：诗教通过诗歌表达情感，能够培养人的情感世界，使人们更加细腻地感受生活，增强同情心和审美能力。\n",
      "\n",
      "2. **礼仪规范**：礼教强调行为规范和道德准则，有助于维护社会秩序，培养人的社会责任感和集体主义精神。\n",
      "\n",
      "3. **人格塑造**：乐教通过音乐教育，塑造人的品格，培养人的道德情操，提升个人的精神境界。\n",
      "\n",
      "4. **道德教化**：诗礼乐教化是道德教化的重要手段，有助于传承和弘扬中华民族优秀传统文化。\n",
      "\n",
      "5. **社会和谐**：通过诗礼乐教化，可以促进社会成员之间的和谐相处，构建和谐社会。\n",
      "\n",
      "然而，诗礼乐教化也面临一些困难和挑战：\n",
      "\n",
      "1. **时代变迁**：随着社会的发展和变迁，传统的诗礼乐教化方式可能难以适应现代社会的需求。\n",
      "\n",
      "2. **文化冲击**：外来文化的影响可能对传统的诗礼乐教化产生冲击，导致传统文化传承的困境。\n",
      "\n",
      "3. **教育方式**：传统的诗礼乐教化方式可能过于注重形式，缺乏创新，难以激发学生的学习兴趣。\n",
      "\n",
      "4. **教育资源**：诗礼乐教化需要丰富的教育资源，而在实际操作中，可能存在教育资源不足的问题。\n",
      "\n",
      "至于上述内容中没有提到的困难，例如教育体制、社会环境等方面的因素，我无法给出具体回答。因此，对于这些未知的内容，我的回复是“我不知道”。\n",
      "22.341047763824463\n"
     ]
    }
   ],
   "source": [
    "'''查询'''\n",
    "# %run model.ipynb\n",
    "s = time.time()\n",
    "# 获取Retriever\n",
    "\n",
    "rag_retriver = vector_store.as_retriever(search_type=\"mmr\", search_kwargs={'k': 3})\n",
    "\n",
    "prompt_template = PromptTemplate.from_template(\"\"\"\n",
    "        你是一名对答如流的专家，请根据如下的内容回答问题\n",
    "        {context}\n",
    "        请如实地回答用户所提出的问题:{question}，如果遇到你不知道的（包含在上述内容中也没有提到的），请回复“我不知道”。\n",
    "        \"\"\")\n",
    "\n",
    "\n",
    "# 使用Expression Language语法组合成Chain\n",
    "rag_chain = {\"context\": rag_retriver, \"question\": RunnablePassthrough()} | prompt_template | local_model()\n",
    "\n",
    "\n",
    "# async for chunk in rag_chain.astream(\"诗礼乐教化有什么价值和困难\"):\n",
    "#     # print('-')  # noqa: T201\n",
    "#     print(chunk.content, end='', flush=True)  # noqa: T201\n",
    "# 提问&回答\n",
    "response = rag_chain.invoke(\"诗礼乐教化有什么价值和困难\")\n",
    " \n",
    "print(response)\n",
    "e = time.time()\n",
    "print(e-s)"
   ]
  },
  {
   "cell_type": "code",
   "execution_count": null,
   "id": "f497557d-0291-46da-88e9-fddbd2602f2e",
   "metadata": {},
   "outputs": [],
   "source": []
  }
 ],
 "metadata": {
  "kernelspec": {
   "display_name": "Pytorch",
   "language": "python",
   "name": "pytorch"
  },
  "language_info": {
   "codemirror_mode": {
    "name": "ipython",
    "version": 3
   },
   "file_extension": ".py",
   "mimetype": "text/x-python",
   "name": "python",
   "nbconvert_exporter": "python",
   "pygments_lexer": "ipython3",
   "version": "3.10.14"
  }
 },
 "nbformat": 4,
 "nbformat_minor": 5
}
