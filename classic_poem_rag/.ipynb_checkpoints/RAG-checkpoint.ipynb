{
 "cells": [
  {
   "cell_type": "code",
   "execution_count": 1,
   "id": "2d6f4620-1beb-4ba3-81d3-ae9e8eb129ba",
   "metadata": {},
   "outputs": [],
   "source": [
    "\"\"\"\n",
    "RAG的基本流程和方法\n",
    "1、使用langchain的document_load来加载文本\n",
    "2、使用text_split来分割文本\n",
    "3、加载为document类型数据\n",
    "4、embedding成向量\n",
    "5、使用chorma和fassio来存储向量（非持久性，存在内存中）\n",
    "6、可以将向量存在splite中做永久性储存\n",
    "\"\"\"\n",
    "\n",
    "from langchain_community.llms.ollama import Ollama\n",
    "from langchain_community.chat_models.ollama import ChatOllama\n",
    "\n",
    "llm = Ollama(model = \"glm4\")"
   ]
  },
  {
   "cell_type": "code",
   "execution_count": 7,
   "id": "6b2ca7e5-c400-4481-8586-df30554884ef",
   "metadata": {},
   "outputs": [],
   "source": [
    "from langchain_community.chat_models import ChatZhipuAI\n",
    "import os\n",
    "os.environ[\"ZHIPUAI_API_KEY\"] = \"036549c5f123aa1a284cbd502edad88c.OpF6mns4FtQ4MaHO\"\n",
    "model = ChatZhipuAI(model=\"glm-4\",streamer = True)"
   ]
  },
  {
   "cell_type": "code",
   "execution_count": 6,
   "id": "c6b632d4-c25f-4a6e-b062-22f4456ceb92",
   "metadata": {},
   "outputs": [
    {
     "name": "stdout",
     "output_type": "stream",
     "text": [
      "error\n",
      "10.37590503692627\n"
     ]
    }
   ],
   "source": [
    "import time\n",
    "from langchain.prompts import PromptTemplate\n",
    "from langchain_core.runnables import RunnablePassthrough\n",
    "from langchain_core.output_parsers import StrOutputParser\n",
    "from transformers import AutoTokenizer, AutoModelForCausalLM\n",
    "import os\n",
    "import torch\n",
    "%run model.ipynb\n",
    "s = time.time()\n",
    "# 获取Retriever\n",
    "rag_retriever = vector_store.as_retriever()\n",
    " \n",
    "prompt_template = PromptTemplate.from_template(\"\"\"\n",
    "        你是一名对答如流的专家，请根据如下的内容回答问题\n",
    "        {context}\n",
    "        请如实地回答用户所提出的问题:{question}，如果遇到你不知道的（包含在上述内容中也没有提到的），请回复“我不知道”。\n",
    "        \"\"\")\n",
    " \n",
    "# 使用Expression Language语法组合成Chain\n",
    "rag_chain = {\"context\": rag_retriever, \"question\": RunnablePassthrough()} | prompt_template | local_model()\n",
    " \n",
    "# 提问&回答\n",
    "response = rag_chain.invoke(\"思维逃离当下的策略是什么\")\n",
    " \n",
    "print(response)\n",
    "e = time.time()\n",
    "print(e-s)"
   ]
  },
  {
   "cell_type": "code",
   "execution_count": 9,
   "id": "eec671f9-577d-4284-a538-9b55a463c20a",
   "metadata": {},
   "outputs": [
    {
     "name": "stderr",
     "output_type": "stream",
     "text": [
      "INFO:langchain.retrievers.multi_query:Generated queries: ['1. 概括内容，请确保字数不超过80字。', '2. 请提供内容的简短总结，最长80字。', '3. 能否用不超过80个字对资料进行总结？']\n"
     ]
    },
    {
     "name": "stdout",
     "output_type": "stream",
     "text": [
      "\n",
      "这本书探讨了人类意识的转化，强调从痛苦中解放出来，进入开悟的当下时刻，并以此为基础创造更好的世界。\n"
     ]
    }
   ],
   "source": [
    "import logging\n",
    "from langchain.retrievers import MultiQueryRetriever\n",
    "logging.basicConfig()   # 这行代码用于显示duoquery查询的内容\n",
    "logging.getLogger(\"langchain.retrievers.multi_query\").setLevel(logging.INFO)\n",
    " \n",
    "\n",
    "rag_chain = (\n",
    "                {\n",
    "                \"context\": MultiQueryRetriever.from_llm(retriever=rag_retriever, llm=local_model()),\n",
    "                \"question\": RunnablePassthrough()\n",
    "                }\n",
    "                | prompt_template\n",
    "                | local_model()\n",
    "                | StrOutputParser()\n",
    "            )\n",
    " \n",
    "response = rag_chain.invoke(\"对内容做一个总结，不要超过80个字\")\n",
    "print(response)"
   ]
  },
  {
   "cell_type": "code",
   "execution_count": 6,
   "id": "00df7701-862b-48f8-bb3e-7ff20c5d1d28",
   "metadata": {},
   "outputs": [
    {
     "name": "stdout",
     "output_type": "stream",
     "text": [
      "Column 'updated_at' added successfully.\n"
     ]
    }
   ],
   "source": [
    "# 创建的\n",
    "import sqlite3\n",
    "\n",
    "# Connect to your SQLite database\n",
    "conn = sqlite3.connect('./db/chroma.sqlite3')\n",
    "cursor = conn.cursor()\n",
    "\n",
    "# Add the 'uuid' column to the 'upsertion_record' table\n",
    "try:\n",
    "    cursor.execute('ALTER TABLE upsertion_record ADD COLUMN updated_at TEXT')\n",
    "    conn.commit()\n",
    "    print(\"Column 'updated_at' added successfully.\")\n",
    "except sqlite3.OperationalError as e:\n",
    "    print(f\"Error: {e}\")\n",
    "\n",
    "# Close the connection\n",
    "conn.close()\n"
   ]
  },
  {
   "cell_type": "code",
   "execution_count": 1,
   "id": "9b329777-8e12-4dd7-b747-8e5d12e62777",
   "metadata": {},
   "outputs": [
    {
     "name": "stderr",
     "output_type": "stream",
     "text": [
      "/home/weibs/miniconda3/envs/Pytorch/lib/python3.10/site-packages/sentence_transformers/cross_encoder/CrossEncoder.py:11: TqdmExperimentalWarning: Using `tqdm.autonotebook.tqdm` in notebook mode. Use `tqdm.tqdm` instead to force console mode (e.g. in jupyter console)\n",
      "  from tqdm.autonotebook import tqdm, trange\n",
      "/home/weibs/miniconda3/envs/Pytorch/lib/python3.10/site-packages/langchain_core/_api/deprecation.py:139: LangChainDeprecationWarning: The class `HuggingFaceEmbeddings` was deprecated in LangChain 0.2.2 and will be removed in 0.3.0. An updated version of the class exists in the langchain-huggingface package and should be used instead. To use it run `pip install -U langchain-huggingface` and import as `from langchain_huggingface import HuggingFaceEmbeddings`.\n",
      "  warn_deprecated(\n"
     ]
    },
    {
     "data": {
      "text/plain": [
       "{'num_added': 129, 'num_updated': 0, 'num_skipped': 0, 'num_deleted': 0}"
      ]
     },
     "execution_count": 1,
     "metadata": {},
     "output_type": "execute_result"
    }
   ],
   "source": [
    "from langchain.indexes import SQLRecordManager, index\n",
    "from langchain.document_loaders.pdf import PDFMinerLoader\n",
    "from typing import List\n",
    "from langchain.text_splitter import CharacterTextSplitter\n",
    "from langchain.vectorstores.chroma import Chroma\n",
    "from langchain_core.documents import Document\n",
    "from langchain.embeddings.huggingface import HuggingFaceEmbeddings\n",
    "import sentence_transformers\n",
    "\n",
    "# Step 1: Initialize the database\n",
    "text_path = \"./text_file/output.json\"\n",
    "\n",
    "# 加载文档\n",
    "loader = PDFMinerLoader(text_path)\n",
    "docs = loader.load()\n",
    "\n",
    "# 把文档进行分块\n",
    "chunks = CharacterTextSplitter(separator=\"\\n\", chunk_size=500, chunk_overlap=10, add_start_index=True).split_documents(documents=docs)\n",
    "\n",
    "# 向量化\n",
    "embedding_model = \"../localmodel/bce-embedding-base_v1\"\n",
    "embeddings = HuggingFaceEmbeddings(model_name=embedding_model, model_kwargs={'device': \"cuda:1\"})\n",
    "embeddings.client = sentence_transformers.SentenceTransformer(embeddings.model_name, device=\"cuda:1\")\n",
    "\n",
    "vectorstore = Chroma(embedding_function=embeddings, persist_directory=\"./db\")\n",
    "\n",
    "# 把持久化的数据库作为记录管理\n",
    "record_manager = SQLRecordManager(namespace=\"Chroma/langchain-index\", db_url=\"sqlite:///./db/chroma.sqlite3\")\n",
    "\n",
    "def index_docs(doc: List[Document], record_manager=record_manager, vectorstore=vectorstore, cleanup=None, source_id_key=\"source\", force_update=False):\n",
    "    return index(doc, record_manager, vectorstore, cleanup=cleanup, source_id_key=source_id_key, force_update=force_update)\n",
    "\n",
    "index_docs(doc=chunks, cleanup=\"incremental\")\n"
   ]
  },
  {
   "cell_type": "code",
   "execution_count": null,
   "id": "b7255e65-8052-4db6-b519-94417ff65320",
   "metadata": {},
   "outputs": [],
   "source": [
    "import time\n",
    "from langchain.prompts import PromptTemplate\n",
    "from langchain_core.runnables import RunnablePassthrough\n",
    "from langchain_core.output_parsers import StrOutputParser\n",
    "from transformers import AutoTokenizer, AutoModelForCausalLM\n",
    "import os\n",
    "import torch\n",
    "%run model.ipynb\n",
    "s = time.time()\n",
    "# 获取Retriever\n",
    "\n",
    "rag_retriver = vector_store.as_retriever(search_type=\"mmr\", search_kwargs={'k': 3})\n",
    " \n",
    "prompt_template = PromptTemplate.from_template(\"\"\"\n",
    "        你是一名对答如流的专家，请根据如下的内容回答问题\n",
    "        {context}\n",
    "        请如实地回答用户所提出的问题:{question}，如果遇到你不知道的（包含在上述内容中也没有提到的），请回复“我不知道”。\n",
    "        \"\"\")\n",
    " \n",
    "# 使用Expression Language语法组合成Chain\n",
    "rag_chain = {\"context\": rag_retriver, \"question\": RunnablePassthrough()} | prompt_template | local_model()\n",
    " \n",
    "# 提问&回答\n",
    "response = rag_chain.invoke(\"请你给我文档中第一张图片的base64码\")\n",
    " \n",
    "print(response)\n",
    "e = time.time()\n",
    "print(e-s)"
   ]
  },
  {
   "cell_type": "code",
   "execution_count": 1,
   "id": "64454a5d-b30c-4163-b2dc-f6cc1e53c6cb",
   "metadata": {},
   "outputs": [
    {
     "name": "stderr",
     "output_type": "stream",
     "text": [
      "/home/weibs/miniconda3/envs/Pytorch/lib/python3.10/site-packages/sentence_transformers/cross_encoder/CrossEncoder.py:11: TqdmExperimentalWarning: Using `tqdm.autonotebook.tqdm` in notebook mode. Use `tqdm.tqdm` instead to force console mode (e.g. in jupyter console)\n",
      "  from tqdm.autonotebook import tqdm, trange\n"
     ]
    }
   ],
   "source": [
    "'''RAG的utils'''\n",
    "import jsonlines\n",
    "from langchain.text_splitter import RecursiveJsonSplitter,CharacterTextSplitter\n",
    "import sentence_transformers\n",
    "from langchain.vectorstores.chroma import Chroma\n",
    "from langchain_community.embeddings import HuggingFaceEmbeddings\n",
    "from langchain.document_loaders import PDFMinerLoader\n",
    "import os\n",
    "\n",
    "def acq_filenames(folder_path):\n",
    "    filename_list = []\n",
    "    for filename in os.listdir(folder_path):\n",
    "        filename_list.append(folder_path + \"/\" + filename)\n",
    "    return filename_list\n",
    "\n",
    "def read_jsonl(jsonl_file):\n",
    "    new_dict = {}\n",
    "    with open(jsonl_file,\"r\",encoding=\"utf-8\") as jsonfile:\n",
    "        for item in jsonlines.Reader(jsonfile):\n",
    "            for key, value in item.items():\n",
    "                new_dict[key] = value\n",
    "    return new_dict\n",
    "\n",
    "def json2doc(file_path):\n",
    "    json_data = read_jsonl(text_path)\n",
    "\n",
    "    splitter = RecursiveJsonSplitter(max_chunk_size=500)\n",
    "    # 递归拆分json数据 - 如果需要访问/操作较小的json块\n",
    "    # json_chunks = splitter.split_json(json_data=json_data)\n",
    "    # 拆分器还可以输出文档\n",
    "    docs = splitter.create_documents(texts=[json_data])\n",
    "    return docs\n",
    "\n",
    "def pdf2doc(file_path):\n",
    "\n",
    "    docs = PDFMinerLoader(file_path).load()\n",
    "    \n",
    "    return docs\n",
    "    \n",
    "    \n",
    "\n",
    "def text2embedding(docs):\n",
    "    # 把文档进行分块\n",
    "    chunks = CharacterTextSplitter(separator=\"\\n\", chunk_size=1000, chunk_overlap=10, add_start_index=True).split_documents(documents=docs)\n",
    "    \n",
    "    # 向量化\n",
    "    embedding_model = \"../localmodel/bce-embedding-base_v1\"\n",
    "    embeddings = HuggingFaceEmbeddings(model_name=embedding_model, model_kwargs={'device': \"cuda:1\"})\n",
    "    embeddings.client = sentence_transformers.SentenceTransformer(embeddings.model_name, device=\"cuda:1\")\n",
    "    \n",
    "    vector_store = Chroma.from_documents(documents=chunks, embedding=embeddings)\n",
    "    \n",
    "    return vector_store\n",
    "\n"
   ]
  },
  {
   "cell_type": "code",
   "execution_count": 2,
   "id": "d14a8eb0-da77-4bdd-b433-545d334823ab",
   "metadata": {},
   "outputs": [
    {
     "data": {
      "application/vnd.jupyter.widget-view+json": {
       "model_id": "c1e121e244584c758ecfcd09c34223d0",
       "version_major": 2,
       "version_minor": 0
      },
      "text/plain": [
       "  0%|          | 0/7 [00:00<?, ?it/s]"
      ]
     },
     "metadata": {},
     "output_type": "display_data"
    },
    {
     "name": "stderr",
     "output_type": "stream",
     "text": [
      "/home/weibs/miniconda3/envs/Pytorch/lib/python3.10/site-packages/langchain_core/_api/deprecation.py:139: LangChainDeprecationWarning: The class `HuggingFaceEmbeddings` was deprecated in LangChain 0.2.2 and will be removed in 0.3.0. An updated version of the class exists in the langchain-huggingface package and should be used instead. To use it run `pip install -U langchain-huggingface` and import as `from langchain_huggingface import HuggingFaceEmbeddings`.\n",
      "  warn_deprecated(\n"
     ]
    }
   ],
   "source": [
    "'''stored embedding'''\n",
    "from langchain.document_loaders.pdf import PDFMinerLoader\n",
    "from langchain_community.document_loaders import JSONLoader\n",
    "import time\n",
    "from langchain.prompts import PromptTemplate\n",
    "from langchain_core.runnables import RunnablePassthrough\n",
    "from langchain_core.output_parsers import StrOutputParser\n",
    "from transformers import AutoTokenizer, AutoModelForCausalLM\n",
    "import os\n",
    "import torch\n",
    "from tqdm.notebook import tqdm\n",
    "from time import sleep\n",
    "\n",
    "\n",
    "# 使用json\n",
    "# text_path = \"./text_file/output.jsonl\"\n",
    "file_list = acq_filenames(\"./text_file/poem\")\n",
    "docs = []\n",
    "\n",
    "for file in tqdm(file_list):\n",
    "\n",
    "    if file.endswith(\".jsonl\"):\n",
    "        doc = json2doc(file)\n",
    "        for item in doc:\n",
    "            docs.append(item)\n",
    "    elif file.endswith(\".pdf\"):\n",
    "        doc = pdf2doc(file)\n",
    "        for item in doc:\n",
    "            docs.append(item)\n",
    "    sleep(0.01)\n",
    "    \n",
    "\n",
    "vector_store = text2embedding(docs)\n",
    "\n",
    "    \n"
   ]
  },
  {
   "cell_type": "code",
   "execution_count": 5,
   "id": "cf8221b3-07d4-4877-a400-70809b59e88a",
   "metadata": {},
   "outputs": [
    {
     "name": "stdout",
     "output_type": "stream",
     "text": [
      "\n",
      "诗礼乐教化的价值和困难如下：\n",
      "\n",
      "价值：\n",
      "1. 诗教、礼教、乐教体现了中国传统道德化育的层次，有助于厘清相关概念，找准伦理学基础。\n",
      "2. 诗教尚情、礼教崇理、乐教重情、理交融，有助于塑造完美人格，统一思想，构建和谐的社会秩序。\n",
      "3. 诗教、礼教、乐教是儒家思想的重要组成部分，对道德教化具有重要指导意义。\n",
      "4. 诗礼乐教化模式影响着民众的行为范式，对道德教化具有重要价值。\n",
      "\n",
      "困难：\n",
      "1. 诗教、礼教、乐教的概念定义过于宽泛，导致针对性研究减弱。\n",
      "2. 在实际操作中，如何将诗教、礼教、乐教融入现代社会，使其具有时代意义，存在一定困难。\n",
      "3. 诗教、礼教、乐教在现代社会中可能受到忽视，难以得到充分重视和传承。\n",
      "\n",
      "至于上述内容中没有提到的困难，我不知道。\n",
      "19.57222890853882\n"
     ]
    }
   ],
   "source": [
    "'''查询'''\n",
    "%run model.ipynb\n",
    "s = time.time()\n",
    "# 获取Retriever\n",
    "rag_retriver = vector_store.as_retriever(search_type=\"mmr\", search_kwargs={'k': 3})\n",
    "\n",
    "prompt_template = PromptTemplate.from_template(\"\"\"\n",
    "        你是一名对答如流的专家，请根据如下的内容回答问题\n",
    "        {context}\n",
    "        请如实地回答用户所提出的问题:{question}，如果遇到你不知道的（包含在上述内容中也没有提到的），请回复“我不知道”。\n",
    "        \"\"\")\n",
    "\n",
    "\n",
    "# 使用Expression Language语法组合成Chain\n",
    "rag_chain = {\"context\": rag_retriver, \"question\": RunnablePassthrough()} | prompt_template | local_model()\n",
    "\n",
    "\n",
    "# async for chunk in rag_chain.astream(\"诗礼乐教化有什么价值和困难\"):\n",
    "#     # print('-')  # noqa: T201\n",
    "#     print(chunk.content, end='', flush=True)  # noqa: T201\n",
    "# 提问&回答\n",
    "response = rag_chain.invoke(\"诗礼乐教化有什么价值和困难\")\n",
    " \n",
    "print(response)\n",
    "e = time.time()\n",
    "print(e-s)"
   ]
  },
  {
   "cell_type": "code",
   "execution_count": null,
   "id": "62d01fa3-d9c2-4c0f-9e3d-b528a1df6064",
   "metadata": {},
   "outputs": [],
   "source": []
  }
 ],
 "metadata": {
  "kernelspec": {
   "display_name": "Pytorch",
   "language": "python",
   "name": "pytorch"
  },
  "language_info": {
   "codemirror_mode": {
    "name": "ipython",
    "version": 3
   },
   "file_extension": ".py",
   "mimetype": "text/x-python",
   "name": "python",
   "nbconvert_exporter": "python",
   "pygments_lexer": "ipython3",
   "version": "3.10.14"
  }
 },
 "nbformat": 4,
 "nbformat_minor": 5
}
