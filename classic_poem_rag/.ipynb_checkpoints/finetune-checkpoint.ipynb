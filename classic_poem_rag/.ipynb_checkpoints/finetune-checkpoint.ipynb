{
 "cells": [
  {
   "cell_type": "code",
   "execution_count": 1,
   "id": "9e79e54f-1b46-46db-bd7e-563d77a4a5ab",
   "metadata": {},
   "outputs": [
    {
     "name": "stderr",
     "output_type": "stream",
     "text": [
      "2024-07-29 13:08:37,161 - modelscope - WARNING - Model revision not specified, use revision: v1.1.9\n",
      "Downloading: 100%|██████████| 8.21k/8.21k [00:00<00:00, 23.9kB/s]\n",
      "Downloading: 100%|██████████| 50.8k/50.8k [00:00<00:00, 151kB/s]\n",
      "Downloading: 100%|██████████| 244k/244k [00:00<00:00, 577kB/s]\n",
      "Downloading: 100%|██████████| 135k/135k [00:00<00:00, 339kB/s]\n",
      "Downloading: 100%|██████████| 910/910 [00:00<00:00, 2.28kB/s]\n",
      "Downloading: 100%|██████████| 77.0/77.0 [00:00<00:00, 240B/s]\n",
      "Downloading: 100%|██████████| 2.29k/2.29k [00:00<00:00, 7.76kB/s]\n",
      "Downloading: 100%|██████████| 1.88k/1.88k [00:00<00:00, 6.46kB/s]\n",
      "Downloading: 100%|██████████| 249/249 [00:00<00:00, 486B/s]\n",
      "Downloading: 100%|██████████| 1.63M/1.63M [00:00<00:00, 3.07MB/s]\n",
      "Downloading: 100%|██████████| 1.84M/1.84M [00:00<00:00, 3.24MB/s]\n",
      "Downloading: 100%|██████████| 2.64M/2.64M [00:00<00:00, 4.84MB/s]\n",
      "Downloading: 100%|██████████| 6.73k/6.73k [00:00<00:00, 20.9kB/s]\n",
      "Downloading: 100%|██████████| 80.8k/80.8k [00:00<00:00, 192kB/s]\n",
      "Downloading: 100%|██████████| 80.8k/80.8k [00:00<00:00, 173kB/s]\n",
      "Downloading: 100%|██████████| 1.83G/1.83G [00:18<00:00, 106MB/s] \n",
      "Downloading: 100%|██████████| 1.88G/1.88G [00:18<00:00, 109MB/s] \n",
      "Downloading: 100%|██████████| 1.88G/1.88G [00:19<00:00, 104MB/s] \n",
      "Downloading: 100%|██████████| 1.88G/1.88G [00:18<00:00, 109MB/s] \n",
      "Downloading: 100%|██████████| 1.88G/1.88G [00:19<00:00, 105MB/s] \n",
      "Downloading: 100%|██████████| 1.88G/1.88G [00:20<00:00, 101MB/s] \n",
      "Downloading: 100%|██████████| 1.88G/1.88G [00:19<00:00, 102MB/s] \n",
      "Downloading: 100%|██████████| 1.24G/1.24G [00:12<00:00, 107MB/s] \n",
      "Downloading: 100%|██████████| 19.1k/19.1k [00:00<00:00, 64.5kB/s]\n",
      "Downloading: 100%|██████████| 54.3k/54.3k [00:00<00:00, 120kB/s]\n",
      "Downloading: 100%|██████████| 15.0k/15.0k [00:00<00:00, 43.3kB/s]\n",
      "Downloading: 100%|██████████| 237k/237k [00:00<00:00, 455kB/s]\n",
      "Downloading: 100%|██████████| 116k/116k [00:00<00:00, 279kB/s]\n",
      "Downloading: 100%|██████████| 2.44M/2.44M [00:00<00:00, 4.09MB/s]\n",
      "Downloading: 100%|██████████| 473k/473k [00:00<00:00, 1.09MB/s]\n",
      "Downloading: 100%|██████████| 14.3k/14.3k [00:00<00:00, 46.2kB/s]\n",
      "Downloading: 100%|██████████| 79.0k/79.0k [00:00<00:00, 211kB/s]\n",
      "Downloading: 100%|██████████| 46.4k/46.4k [00:00<00:00, 136kB/s]\n",
      "Downloading: 100%|██████████| 0.98M/0.98M [00:00<00:00, 1.55MB/s]\n",
      "Downloading: 100%|██████████| 205k/205k [00:00<00:00, 407kB/s]\n",
      "Downloading: 100%|██████████| 19.4k/19.4k [00:00<00:00, 44.5kB/s]\n",
      "Downloading: 100%|██████████| 11.6k/11.6k [00:00<00:00, 28.9kB/s]\n",
      "Downloading: 100%|██████████| 302k/302k [00:00<00:00, 567kB/s]\n",
      "Downloading: 100%|██████████| 615k/615k [00:00<00:00, 1.26MB/s]\n",
      "Downloading: 100%|██████████| 376k/376k [00:00<00:00, 676kB/s]\n",
      "Downloading: 100%|██████████| 445k/445k [00:00<00:00, 954kB/s]\n",
      "Downloading: 100%|██████████| 33.7k/33.7k [00:00<00:00, 106kB/s]\n",
      "Downloading: 100%|██████████| 395k/395k [00:00<00:00, 728kB/s]\n",
      "Downloading: 100%|██████████| 176k/176k [00:00<00:00, 443kB/s]\n",
      "Downloading: 100%|██████████| 182k/182k [00:00<00:00, 458kB/s]\n",
      "Downloading: 100%|██████████| 824k/824k [00:00<00:00, 1.54MB/s]\n",
      "Downloading: 100%|██████████| 426k/426k [00:00<00:00, 715kB/s]\n",
      "Downloading: 100%|██████████| 433k/433k [00:00<00:00, 911kB/s]\n",
      "Downloading: 100%|██████████| 466k/466k [00:00<00:00, 1.01MB/s]\n",
      "Downloading: 100%|██████████| 403k/403k [00:00<00:00, 878kB/s]\n",
      "Downloading: 100%|██████████| 9.39k/9.39k [00:00<00:00, 10.9kB/s]\n",
      "Downloading: 100%|██████████| 403k/403k [00:00<00:00, 813kB/s]\n",
      "Downloading: 100%|██████████| 79.0k/79.0k [00:00<00:00, 203kB/s]\n",
      "Downloading: 100%|██████████| 173/173 [00:00<00:00, 512B/s]\n",
      "Downloading: 100%|██████████| 41.9k/41.9k [00:00<00:00, 115kB/s]\n",
      "Downloading: 100%|██████████| 230k/230k [00:00<00:00, 427kB/s]\n",
      "Downloading: 100%|██████████| 1.27M/1.27M [00:00<00:00, 2.40MB/s]\n",
      "Downloading: 100%|██████████| 664k/664k [00:00<00:00, 1.12MB/s]\n",
      "Downloading: 100%|██████████| 404k/404k [00:00<00:00, 746kB/s]\n"
     ]
    },
    {
     "data": {
      "text/plain": [
       "'/home/weibs/.cache/modelscope/hub/qwen/Qwen-7B-chat'"
      ]
     },
     "execution_count": 1,
     "metadata": {},
     "output_type": "execute_result"
    }
   ],
   "source": [
    "#模型下载\n",
    "from modelscope import snapshot_download\n",
    "model_dir = snapshot_download('qwen/Qwen-7B-chat')\n",
    "model_dir"
   ]
  },
  {
   "cell_type": "code",
   "execution_count": null,
   "id": "f3b1cc81-c494-47e8-9cc8-8d19611c9ca2",
   "metadata": {},
   "outputs": [],
   "source": []
  }
 ],
 "metadata": {
  "kernelspec": {
   "display_name": "llmfactory",
   "language": "python",
   "name": "llmfactory"
  },
  "language_info": {
   "codemirror_mode": {
    "name": "ipython",
    "version": 3
   },
   "file_extension": ".py",
   "mimetype": "text/x-python",
   "name": "python",
   "nbconvert_exporter": "python",
   "pygments_lexer": "ipython3",
   "version": "3.10.14"
  }
 },
 "nbformat": 4,
 "nbformat_minor": 5
}
